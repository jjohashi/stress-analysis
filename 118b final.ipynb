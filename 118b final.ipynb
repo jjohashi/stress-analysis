{
 "cells": [
  {
   "cell_type": "code",
   "execution_count": 29,
   "id": "1fa40cbb",
   "metadata": {},
   "outputs": [],
   "source": [
    "%matplotlib inline\n",
    "\n",
    "import os \n",
    "import numpy as np\n",
    "import pandas as pd\n",
    "import matplotlib.pyplot as plt\n",
    "\n",
    "# Import nltk package\n",
    "import nltk\n",
    "from nltk.tokenize import word_tokenize\n",
    "from nltk.corpus import stopwords\n",
    "\n",
    "import warnings\n",
    "warnings.filterwarnings('ignore')\n",
    "\n",
    "# scikit-learn imports\n",
    "from sklearn.model_selection import train_test_split, cross_val_score, GridSearchCV\n",
    "from sklearn import svm\n",
    "from sklearn.svm import SVC\n",
    "from sklearn.feature_extraction.text import CountVectorizer, TfidfVectorizer\n",
    "from sklearn.metrics import classification_report, precision_recall_fscore_support, accuracy_score\n",
    "\n",
    "import seaborn as sns"
   ]
  },
  {
   "cell_type": "code",
   "execution_count": 2,
   "id": "18a2397c",
   "metadata": {},
   "outputs": [
    {
     "name": "stderr",
     "output_type": "stream",
     "text": [
      "[nltk_data] Downloading package punkt to /home/cbvincen/nltk_data...\n",
      "[nltk_data]   Package punkt is already up-to-date!\n",
      "[nltk_data] Downloading package stopwords to\n",
      "[nltk_data]     /home/cbvincen/nltk_data...\n",
      "[nltk_data]   Package stopwords is already up-to-date!\n"
     ]
    },
    {
     "data": {
      "text/plain": [
       "True"
      ]
     },
     "execution_count": 2,
     "metadata": {},
     "output_type": "execute_result"
    }
   ],
   "source": [
    "# Download the NLTK English tokenizer and the stopwords of all languages\n",
    "nltk.download('punkt')\n",
    "nltk.download('stopwords')"
   ]
  },
  {
   "cell_type": "code",
   "execution_count": 3,
   "id": "bcfecc8f",
   "metadata": {},
   "outputs": [],
   "source": [
    "directory = os.getcwd()"
   ]
  },
  {
   "cell_type": "code",
   "execution_count": 4,
   "id": "21f34e54",
   "metadata": {},
   "outputs": [],
   "source": [
    "tweet_dir = os.path.join(directory,'tweets')"
   ]
  },
  {
   "cell_type": "code",
   "execution_count": 5,
   "id": "26d0f794",
   "metadata": {},
   "outputs": [],
   "source": [
    "tweets = pd.read_csv(tweet_dir, encoding='latin-1')\n",
    "tweets.columns = ['Polarity', 'ID', 'Date', 'Flag', 'User', 'Text']"
   ]
  },
  {
   "cell_type": "code",
   "execution_count": 6,
   "id": "0e97a120",
   "metadata": {},
   "outputs": [
    {
     "data": {
      "text/html": [
       "<div>\n",
       "<style scoped>\n",
       "    .dataframe tbody tr th:only-of-type {\n",
       "        vertical-align: middle;\n",
       "    }\n",
       "\n",
       "    .dataframe tbody tr th {\n",
       "        vertical-align: top;\n",
       "    }\n",
       "\n",
       "    .dataframe thead th {\n",
       "        text-align: right;\n",
       "    }\n",
       "</style>\n",
       "<table border=\"1\" class=\"dataframe\">\n",
       "  <thead>\n",
       "    <tr style=\"text-align: right;\">\n",
       "      <th></th>\n",
       "      <th>Polarity</th>\n",
       "      <th>Date</th>\n",
       "      <th>User</th>\n",
       "      <th>Text</th>\n",
       "    </tr>\n",
       "  </thead>\n",
       "  <tbody>\n",
       "    <tr>\n",
       "      <th>0</th>\n",
       "      <td>0</td>\n",
       "      <td>Mon Apr 06 22:19:49 PDT 2009</td>\n",
       "      <td>scotthamilton</td>\n",
       "      <td>is upset that he can't update his Facebook by ...</td>\n",
       "    </tr>\n",
       "    <tr>\n",
       "      <th>1</th>\n",
       "      <td>0</td>\n",
       "      <td>Mon Apr 06 22:19:53 PDT 2009</td>\n",
       "      <td>mattycus</td>\n",
       "      <td>@Kenichan I dived many times for the ball. Man...</td>\n",
       "    </tr>\n",
       "    <tr>\n",
       "      <th>2</th>\n",
       "      <td>0</td>\n",
       "      <td>Mon Apr 06 22:19:57 PDT 2009</td>\n",
       "      <td>ElleCTF</td>\n",
       "      <td>my whole body feels itchy and like its on fire</td>\n",
       "    </tr>\n",
       "    <tr>\n",
       "      <th>3</th>\n",
       "      <td>0</td>\n",
       "      <td>Mon Apr 06 22:19:57 PDT 2009</td>\n",
       "      <td>Karoli</td>\n",
       "      <td>@nationwideclass no, it's not behaving at all....</td>\n",
       "    </tr>\n",
       "    <tr>\n",
       "      <th>4</th>\n",
       "      <td>0</td>\n",
       "      <td>Mon Apr 06 22:20:00 PDT 2009</td>\n",
       "      <td>joy_wolf</td>\n",
       "      <td>@Kwesidei not the whole crew</td>\n",
       "    </tr>\n",
       "  </tbody>\n",
       "</table>\n",
       "</div>"
      ],
      "text/plain": [
       "   Polarity                          Date           User  \\\n",
       "0         0  Mon Apr 06 22:19:49 PDT 2009  scotthamilton   \n",
       "1         0  Mon Apr 06 22:19:53 PDT 2009       mattycus   \n",
       "2         0  Mon Apr 06 22:19:57 PDT 2009        ElleCTF   \n",
       "3         0  Mon Apr 06 22:19:57 PDT 2009         Karoli   \n",
       "4         0  Mon Apr 06 22:20:00 PDT 2009       joy_wolf   \n",
       "\n",
       "                                                Text  \n",
       "0  is upset that he can't update his Facebook by ...  \n",
       "1  @Kenichan I dived many times for the ball. Man...  \n",
       "2    my whole body feels itchy and like its on fire   \n",
       "3  @nationwideclass no, it's not behaving at all....  \n",
       "4                      @Kwesidei not the whole crew   "
      ]
     },
     "execution_count": 6,
     "metadata": {},
     "output_type": "execute_result"
    }
   ],
   "source": [
    "tweets.drop(['Flag', 'ID'], axis=1, inplace=True)\n",
    "tweets.head()"
   ]
  },
  {
   "cell_type": "code",
   "execution_count": 7,
   "id": "7b62a046",
   "metadata": {},
   "outputs": [
    {
     "data": {
      "text/html": [
       "<div>\n",
       "<style scoped>\n",
       "    .dataframe tbody tr th:only-of-type {\n",
       "        vertical-align: middle;\n",
       "    }\n",
       "\n",
       "    .dataframe tbody tr th {\n",
       "        vertical-align: top;\n",
       "    }\n",
       "\n",
       "    .dataframe thead th {\n",
       "        text-align: right;\n",
       "    }\n",
       "</style>\n",
       "<table border=\"1\" class=\"dataframe\">\n",
       "  <thead>\n",
       "    <tr style=\"text-align: right;\">\n",
       "      <th></th>\n",
       "      <th>Polarity</th>\n",
       "      <th>Date</th>\n",
       "      <th>User</th>\n",
       "      <th>Text</th>\n",
       "    </tr>\n",
       "  </thead>\n",
       "  <tbody>\n",
       "    <tr>\n",
       "      <th>0</th>\n",
       "      <td>0</td>\n",
       "      <td>Mon Apr 06 22:19:49 PDT 2009</td>\n",
       "      <td>scotthamilton</td>\n",
       "      <td>is upset that he can't update his Facebook by ...</td>\n",
       "    </tr>\n",
       "    <tr>\n",
       "      <th>1</th>\n",
       "      <td>0</td>\n",
       "      <td>Mon Apr 06 22:19:53 PDT 2009</td>\n",
       "      <td>mattycus</td>\n",
       "      <td>@Kenichan I dived many times for the ball. Man...</td>\n",
       "    </tr>\n",
       "    <tr>\n",
       "      <th>2</th>\n",
       "      <td>0</td>\n",
       "      <td>Mon Apr 06 22:19:57 PDT 2009</td>\n",
       "      <td>ElleCTF</td>\n",
       "      <td>my whole body feels itchy and like its on fire</td>\n",
       "    </tr>\n",
       "    <tr>\n",
       "      <th>3</th>\n",
       "      <td>0</td>\n",
       "      <td>Mon Apr 06 22:19:57 PDT 2009</td>\n",
       "      <td>Karoli</td>\n",
       "      <td>@nationwideclass no, it's not behaving at all....</td>\n",
       "    </tr>\n",
       "    <tr>\n",
       "      <th>4</th>\n",
       "      <td>0</td>\n",
       "      <td>Mon Apr 06 22:20:00 PDT 2009</td>\n",
       "      <td>joy_wolf</td>\n",
       "      <td>@Kwesidei not the whole crew</td>\n",
       "    </tr>\n",
       "  </tbody>\n",
       "</table>\n",
       "</div>"
      ],
      "text/plain": [
       "   Polarity                          Date           User  \\\n",
       "0         0  Mon Apr 06 22:19:49 PDT 2009  scotthamilton   \n",
       "1         0  Mon Apr 06 22:19:53 PDT 2009       mattycus   \n",
       "2         0  Mon Apr 06 22:19:57 PDT 2009        ElleCTF   \n",
       "3         0  Mon Apr 06 22:19:57 PDT 2009         Karoli   \n",
       "4         0  Mon Apr 06 22:20:00 PDT 2009       joy_wolf   \n",
       "\n",
       "                                                Text  \n",
       "0  is upset that he can't update his Facebook by ...  \n",
       "1  @Kenichan I dived many times for the ball. Man...  \n",
       "2    my whole body feels itchy and like its on fire   \n",
       "3  @nationwideclass no, it's not behaving at all....  \n",
       "4                      @Kwesidei not the whole crew   "
      ]
     },
     "execution_count": 7,
     "metadata": {},
     "output_type": "execute_result"
    }
   ],
   "source": [
    "tweets1 = tweets[0:5000] \n",
    "tweets2 = tweets[905000:910000]\n",
    "\n",
    "# tweets = tweets1.add(tweets2, fill_value=0)\n",
    "\n",
    "tweets = [tweets1, tweets2]\n",
    "  \n",
    "tweets = pd.concat(tweets)\n",
    "\n",
    "tweets.head()\n",
    "#tweets.shape"
   ]
  },
  {
   "cell_type": "code",
   "execution_count": 8,
   "id": "1a38b936",
   "metadata": {},
   "outputs": [],
   "source": [
    "# re encode positive tweets to 1 instead of 4\n",
    "def encode(label):\n",
    "    if label == 0:\n",
    "        return 0\n",
    "    elif label == 4:\n",
    "        return 1"
   ]
  },
  {
   "cell_type": "code",
   "execution_count": 9,
   "id": "ce519ff6",
   "metadata": {},
   "outputs": [],
   "source": [
    "tweets['Polarity'] = tweets.apply(lambda x: encode(x['Polarity']), axis=1)"
   ]
  },
  {
   "cell_type": "code",
   "execution_count": 10,
   "id": "57e33fb3",
   "metadata": {},
   "outputs": [
    {
     "data": {
      "text/html": [
       "<div>\n",
       "<style scoped>\n",
       "    .dataframe tbody tr th:only-of-type {\n",
       "        vertical-align: middle;\n",
       "    }\n",
       "\n",
       "    .dataframe tbody tr th {\n",
       "        vertical-align: top;\n",
       "    }\n",
       "\n",
       "    .dataframe thead th {\n",
       "        text-align: right;\n",
       "    }\n",
       "</style>\n",
       "<table border=\"1\" class=\"dataframe\">\n",
       "  <thead>\n",
       "    <tr style=\"text-align: right;\">\n",
       "      <th></th>\n",
       "      <th>Polarity</th>\n",
       "      <th>Date</th>\n",
       "      <th>User</th>\n",
       "      <th>Text</th>\n",
       "    </tr>\n",
       "  </thead>\n",
       "  <tbody>\n",
       "    <tr>\n",
       "      <th>0</th>\n",
       "      <td>0</td>\n",
       "      <td>Mon Apr 06 22:19:49 PDT 2009</td>\n",
       "      <td>scotthamilton</td>\n",
       "      <td>is upset that he can't update his Facebook by ...</td>\n",
       "    </tr>\n",
       "    <tr>\n",
       "      <th>1</th>\n",
       "      <td>0</td>\n",
       "      <td>Mon Apr 06 22:19:53 PDT 2009</td>\n",
       "      <td>mattycus</td>\n",
       "      <td>@Kenichan I dived many times for the ball. Man...</td>\n",
       "    </tr>\n",
       "    <tr>\n",
       "      <th>2</th>\n",
       "      <td>0</td>\n",
       "      <td>Mon Apr 06 22:19:57 PDT 2009</td>\n",
       "      <td>ElleCTF</td>\n",
       "      <td>my whole body feels itchy and like its on fire</td>\n",
       "    </tr>\n",
       "    <tr>\n",
       "      <th>3</th>\n",
       "      <td>0</td>\n",
       "      <td>Mon Apr 06 22:19:57 PDT 2009</td>\n",
       "      <td>Karoli</td>\n",
       "      <td>@nationwideclass no, it's not behaving at all....</td>\n",
       "    </tr>\n",
       "    <tr>\n",
       "      <th>4</th>\n",
       "      <td>0</td>\n",
       "      <td>Mon Apr 06 22:20:00 PDT 2009</td>\n",
       "      <td>joy_wolf</td>\n",
       "      <td>@Kwesidei not the whole crew</td>\n",
       "    </tr>\n",
       "  </tbody>\n",
       "</table>\n",
       "</div>"
      ],
      "text/plain": [
       "   Polarity                          Date           User  \\\n",
       "0         0  Mon Apr 06 22:19:49 PDT 2009  scotthamilton   \n",
       "1         0  Mon Apr 06 22:19:53 PDT 2009       mattycus   \n",
       "2         0  Mon Apr 06 22:19:57 PDT 2009        ElleCTF   \n",
       "3         0  Mon Apr 06 22:19:57 PDT 2009         Karoli   \n",
       "4         0  Mon Apr 06 22:20:00 PDT 2009       joy_wolf   \n",
       "\n",
       "                                                Text  \n",
       "0  is upset that he can't update his Facebook by ...  \n",
       "1  @Kenichan I dived many times for the ball. Man...  \n",
       "2    my whole body feels itchy and like its on fire   \n",
       "3  @nationwideclass no, it's not behaving at all....  \n",
       "4                      @Kwesidei not the whole crew   "
      ]
     },
     "execution_count": 10,
     "metadata": {},
     "output_type": "execute_result"
    }
   ],
   "source": [
    "tweets.head()"
   ]
  },
  {
   "cell_type": "code",
   "execution_count": 11,
   "id": "c8fdf0c8",
   "metadata": {},
   "outputs": [],
   "source": [
    "vectorizer = CountVectorizer(analyzer='word', max_features=2000, \n",
    "                             tokenizer=word_tokenize, stop_words= stopwords.words('english'))"
   ]
  },
  {
   "cell_type": "code",
   "execution_count": 12,
   "id": "c5eb9f0f",
   "metadata": {},
   "outputs": [
    {
     "data": {
      "text/plain": [
       "(10000,)"
      ]
     },
     "execution_count": 12,
     "metadata": {},
     "output_type": "execute_result"
    }
   ],
   "source": [
    "df_Y = np.array(tweets['Polarity'])\n",
    "df_Y.shape"
   ]
  },
  {
   "cell_type": "code",
   "execution_count": 13,
   "id": "63ade97f",
   "metadata": {},
   "outputs": [],
   "source": [
    "df_X = vectorizer.fit_transform(tweets[\"Text\"]).toarray()"
   ]
  },
  {
   "cell_type": "code",
   "execution_count": 14,
   "id": "438cecf3",
   "metadata": {},
   "outputs": [],
   "source": [
    "df_train_X, df_test_X, df_train_Y, df_test_Y = train_test_split(df_X, df_Y, test_size= .2, random_state= 200)"
   ]
  },
  {
   "cell_type": "code",
   "execution_count": 15,
   "id": "b637528f",
   "metadata": {},
   "outputs": [],
   "source": [
    "def train_SVM(X, y, kernel='linear'):\n",
    "    clf = SVC(kernel=kernel)\n",
    "    clf.fit(X, y)\n",
    "    return clf"
   ]
  },
  {
   "cell_type": "code",
   "execution_count": 16,
   "id": "68ba7b38",
   "metadata": {},
   "outputs": [],
   "source": [
    "df_clf = train_SVM(df_train_X, df_train_Y)"
   ]
  },
  {
   "cell_type": "code",
   "execution_count": 17,
   "id": "c6b63745",
   "metadata": {},
   "outputs": [],
   "source": [
    "df_predicted_train_Y = df_clf.predict(df_train_X)\n",
    "df_predicted_test_Y = df_clf.predict(df_test_X)"
   ]
  },
  {
   "cell_type": "code",
   "execution_count": 18,
   "id": "afd49285",
   "metadata": {},
   "outputs": [
    {
     "name": "stdout",
     "output_type": "stream",
     "text": [
      "              precision    recall  f1-score   support\n",
      "\n",
      "           0       0.87      0.83      0.85      3997\n",
      "           1       0.83      0.88      0.85      4003\n",
      "\n",
      "    accuracy                           0.85      8000\n",
      "   macro avg       0.85      0.85      0.85      8000\n",
      "weighted avg       0.85      0.85      0.85      8000\n",
      "\n"
     ]
    }
   ],
   "source": [
    "print(classification_report(df_train_Y,df_predicted_train_Y))"
   ]
  },
  {
   "cell_type": "markdown",
   "id": "c6f59f78",
   "metadata": {},
   "source": [
    "# TF-IDF"
   ]
  },
  {
   "cell_type": "code",
   "execution_count": 19,
   "id": "5d5f254a",
   "metadata": {},
   "outputs": [],
   "source": [
    "tfidf = TfidfVectorizer(sublinear_tf=True, analyzer='word', max_features=2000,tokenizer=word_tokenize)"
   ]
  },
  {
   "cell_type": "code",
   "execution_count": 20,
   "id": "1f533a1a",
   "metadata": {},
   "outputs": [],
   "source": [
    "df_tfidf_X = tfidf.fit_transform(tweets['Text']).toarray()"
   ]
  },
  {
   "cell_type": "code",
   "execution_count": 21,
   "id": "6eb925d6",
   "metadata": {},
   "outputs": [],
   "source": [
    "df_train_tfidf_X, df_test_tfidf_X, df_train_tfidf_Y, df_test_tfidf_Y = train_test_split(df_tfidf_X, df_Y, test_size= .2, random_state= 200)"
   ]
  },
  {
   "cell_type": "code",
   "execution_count": 22,
   "id": "3ec250e5",
   "metadata": {},
   "outputs": [],
   "source": [
    "df_tfidf_clf = train_SVM (df_train_tfidf_X, df_train_tfidf_Y)"
   ]
  },
  {
   "cell_type": "code",
   "execution_count": 23,
   "id": "17b5109e",
   "metadata": {},
   "outputs": [],
   "source": [
    "df_pred_train_tfidf_Y = df_tfidf_clf.predict(df_train_tfidf_X)\n",
    "df_pred_test_tfidf_Y = df_tfidf_clf.predict(df_test_tfidf_X)"
   ]
  },
  {
   "cell_type": "code",
   "execution_count": 24,
   "id": "409fdf40",
   "metadata": {},
   "outputs": [
    {
     "name": "stdout",
     "output_type": "stream",
     "text": [
      "              precision    recall  f1-score   support\n",
      "\n",
      "           0       0.85      0.83      0.84      3997\n",
      "           1       0.84      0.85      0.84      4003\n",
      "\n",
      "    accuracy                           0.84      8000\n",
      "   macro avg       0.84      0.84      0.84      8000\n",
      "weighted avg       0.84      0.84      0.84      8000\n",
      "\n"
     ]
    }
   ],
   "source": [
    "print(classification_report(df_train_tfidf_Y, df_pred_train_tfidf_Y))"
   ]
  },
  {
   "cell_type": "code",
   "execution_count": 25,
   "id": "558e13fb",
   "metadata": {},
   "outputs": [],
   "source": [
    "# Draw the heatmap of training errors.\n",
    "def draw_heatmap(training_errors):\n",
    "    # training_errors: A NumPy array with the shape (len(C_list), len(gamma_list))\n",
    "    # gamma_list: List of gamma(s).\n",
    "    # C_list: List of C(s).\n",
    "    plt.figure(figsize = (5,4))\n",
    "    ax = sns.heatmap(training_errors, annot=True, fmt='.3f', \n",
    "                     xticklabels=gamma_list, yticklabels=C_list)\n",
    "    ax.collections[0].colorbar.set_label(\"error\")\n",
    "    ax.set(xlabel = '$\\gamma$', ylabel='$C$')\n",
    "    plt.title('Training error w.r.t $C$ and $\\gamma$')\n",
    "    plt.show()"
   ]
  },
  {
   "cell_type": "code",
   "execution_count": 28,
   "id": "c952d48c",
   "metadata": {},
   "outputs": [
    {
     "data": {
      "text/plain": [
       "GridSearchCV(estimator=SVC(),\n",
       "             param_grid={'C': [1, 10, 100, 1000, 10000],\n",
       "                         'gamma': [1e-06, 1e-05, 0.0001, 0.001, 0.01],\n",
       "                         'kernel': ['rbf']})"
      ]
     },
     "execution_count": 28,
     "metadata": {},
     "output_type": "execute_result"
    }
   ],
   "source": [
    "classifier = svm.SVC(kernel='rbf')\n",
    "search_results =  GridSearchCV(classifier, {'C':C_list, 'gamma': gamma_list, 'kernel': ['rbf']}) #########\n",
    "\n",
    "search_results.fit(df_train_X,df_train_Y)"
   ]
  },
  {
   "cell_type": "code",
   "execution_count": 30,
   "id": "476928f0",
   "metadata": {},
   "outputs": [
    {
     "data": {
      "image/png": "[encoded data removed]",
      "text/plain": [
       "<Figure size 432x288 with 2 Axes>"
      ]
     },
     "metadata": {
      "needs_background": "light"
     },
     "output_type": "display_data"
    }
   ],
   "source": [
    "# here's how we can extract all the same information from the search_results data structure\n",
    "\n",
    "# first get the parameters used in the order they were used\n",
    "results = pd.DataFrame( search_results.cv_results_['params'] )\n",
    "\n",
    "# next grab the score resulting from those parameters, add it to the data\n",
    "# score is accuracy; to display it as misclassification error we use 1 - x\n",
    "results['score'] = 1 - search_results.cv_results_['mean_test_score']\n",
    "\n",
    "# turn a long table into a 2-D table with C being the 1st axis (y-axis) and gamma as the 2nd (x-axis)\n",
    "results = results.pivot('C','gamma','score')\n",
    "\n",
    "# and plot it\n",
    "# using the dataframe means we don't need the wrapper fct around sns.heatmap we used before\n",
    "sns.heatmap(results,annot=True, fmt='.3f') \n",
    "plt.title('Training error w.r.t $C$ and $\\gamma$')\n",
    "plt.show()"
   ]
  },
  {
   "cell_type": "code",
   "execution_count": 33,
   "id": "42b204bd",
   "metadata": {},
   "outputs": [
    {
     "name": "stdout",
     "output_type": "stream",
     "text": [
      "Test set error for optimum classifier(C=100,gamma=0.001): 0.277\n"
     ]
    }
   ],
   "source": [
    "# extract the best estimator and its params\n",
    "opt_classifier = search_results.best_estimator_\n",
    "opt_C = search_results.best_params_['C']\n",
    "opt_gamma = search_results.best_params_['gamma']\n",
    "\n",
    "# just a copy/paste of test set evaluation from before\n",
    "opt_classifier.fit(df_train_X,df_train_Y)\n",
    "opt_test_score = 1 - opt_classifier.score(df_test_X,df_test_Y) # again turn accuracy into misclassification error\n",
    "print(f'Test set error for optimum classifier(C={opt_C},gamma={opt_gamma}): {opt_test_score:.3f}') \n"
   ]
  },
  {
   "cell_type": "code",
   "execution_count": null,
   "id": "f0a64aa6",
   "metadata": {},
   "outputs": [],
   "source": []
  }
 ],
 "metadata": {
  "kernelspec": {
   "display_name": "Python 3 (ipykernel)",
   "language": "python",
   "name": "python3"
  },
  "language_info": {
   "codemirror_mode": {
    "name": "ipython",
    "version": 3
   },
   "file_extension": ".py",
   "mimetype": "text/x-python",
   "name": "python",
   "nbconvert_exporter": "python",
   "pygments_lexer": "ipython3",
   "version": "3.9.5"
  }
 },
 "nbformat": 4,
 "nbformat_minor": 5
}
