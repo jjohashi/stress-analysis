{
 "cells": [
  {
   "cell_type": "code",
   "execution_count": 11,
   "id": "9a98b7f8",
   "metadata": {},
   "outputs": [],
   "source": [
    "%matplotlib inline\n",
    "\n",
    "import os \n",
    "import numpy as np\n",
    "import pandas as pd\n",
    "import matplotlib.pyplot as plt\n",
    "\n",
    "# Import nltk package\n",
    "import nltk\n",
    "from nltk.tokenize import word_tokenize\n",
    "from nltk.corpus import stopwords\n",
    "\n",
    "import warnings\n",
    "warnings.filterwarnings('ignore')\n",
    "\n",
    "# scikit-learn imports\n",
    "from sklearn.model_selection import train_test_split, cross_val_score, GridSearchCV\n",
    "from sklearn import svm\n",
    "from sklearn.svm import SVC\n",
    "from sklearn.feature_extraction.text import CountVectorizer, TfidfVectorizer\n",
    "from sklearn.metrics import classification_report, precision_recall_fscore_support, accuracy_score\n",
    "\n",
    "import seaborn as sns\n",
    "\n",
    "#PCA\n",
    "from sklearn.preprocessing import StandardScaler\n",
    "from sklearn.decomposition import PCA\n",
    "\n",
    "#kmeans\n",
    "from sklearn.cluster import KMeans"
   ]
  },
  {
   "cell_type": "code",
   "execution_count": 12,
   "id": "1b0cde6b",
   "metadata": {},
   "outputs": [
    {
     "name": "stderr",
     "output_type": "stream",
     "text": [
      "[nltk_data] Downloading package punkt to\n",
      "[nltk_data]     /Users/jordynohashi/nltk_data...\n",
      "[nltk_data]   Package punkt is already up-to-date!\n",
      "[nltk_data] Downloading package stopwords to\n",
      "[nltk_data]     /Users/jordynohashi/nltk_data...\n",
      "[nltk_data]   Package stopwords is already up-to-date!\n"
     ]
    },
    {
     "data": {
      "text/plain": [
       "True"
      ]
     },
     "execution_count": 12,
     "metadata": {},
     "output_type": "execute_result"
    }
   ],
   "source": [
    "# Download the NLTK English tokenizer and the stopwords of all languages\n",
    "nltk.download('punkt')\n",
    "nltk.download('stopwords')"
   ]
  },
  {
   "cell_type": "markdown",
   "id": "aa8cd031",
   "metadata": {},
   "source": [
    "## Data Prep"
   ]
  },
  {
   "cell_type": "code",
   "execution_count": 13,
   "id": "cc197732",
   "metadata": {},
   "outputs": [],
   "source": [
    "directory = os.getcwd()"
   ]
  },
  {
   "cell_type": "code",
   "execution_count": 14,
   "id": "a2d7b84d",
   "metadata": {},
   "outputs": [],
   "source": [
    "tweet_dir = os.path.join(directory,'tweets.csv')"
   ]
  },
  {
   "cell_type": "code",
   "execution_count": 15,
   "id": "6738c192",
   "metadata": {},
   "outputs": [],
   "source": [
    "tweets = pd.read_csv(tweet_dir, encoding='latin-1')\n",
    "tweets.columns = ['Polarity', 'ID', 'Date', 'Flag', 'User', 'Text']"
   ]
  },
  {
   "cell_type": "code",
   "execution_count": 16,
   "id": "0127d604",
   "metadata": {},
   "outputs": [
    {
     "data": {
      "text/html": [
       "<div>\n",
       "<style scoped>\n",
       "    .dataframe tbody tr th:only-of-type {\n",
       "        vertical-align: middle;\n",
       "    }\n",
       "\n",
       "    .dataframe tbody tr th {\n",
       "        vertical-align: top;\n",
       "    }\n",
       "\n",
       "    .dataframe thead th {\n",
       "        text-align: right;\n",
       "    }\n",
       "</style>\n",
       "<table border=\"1\" class=\"dataframe\">\n",
       "  <thead>\n",
       "    <tr style=\"text-align: right;\">\n",
       "      <th></th>\n",
       "      <th>Polarity</th>\n",
       "      <th>Date</th>\n",
       "      <th>User</th>\n",
       "      <th>Text</th>\n",
       "    </tr>\n",
       "  </thead>\n",
       "  <tbody>\n",
       "    <tr>\n",
       "      <th>0</th>\n",
       "      <td>0</td>\n",
       "      <td>Mon Apr 06 22:19:49 PDT 2009</td>\n",
       "      <td>scotthamilton</td>\n",
       "      <td>is upset that he can't update his Facebook by ...</td>\n",
       "    </tr>\n",
       "    <tr>\n",
       "      <th>1</th>\n",
       "      <td>0</td>\n",
       "      <td>Mon Apr 06 22:19:53 PDT 2009</td>\n",
       "      <td>mattycus</td>\n",
       "      <td>@Kenichan I dived many times for the ball. Man...</td>\n",
       "    </tr>\n",
       "    <tr>\n",
       "      <th>2</th>\n",
       "      <td>0</td>\n",
       "      <td>Mon Apr 06 22:19:57 PDT 2009</td>\n",
       "      <td>ElleCTF</td>\n",
       "      <td>my whole body feels itchy and like its on fire</td>\n",
       "    </tr>\n",
       "    <tr>\n",
       "      <th>3</th>\n",
       "      <td>0</td>\n",
       "      <td>Mon Apr 06 22:19:57 PDT 2009</td>\n",
       "      <td>Karoli</td>\n",
       "      <td>@nationwideclass no, it's not behaving at all....</td>\n",
       "    </tr>\n",
       "    <tr>\n",
       "      <th>4</th>\n",
       "      <td>0</td>\n",
       "      <td>Mon Apr 06 22:20:00 PDT 2009</td>\n",
       "      <td>joy_wolf</td>\n",
       "      <td>@Kwesidei not the whole crew</td>\n",
       "    </tr>\n",
       "  </tbody>\n",
       "</table>\n",
       "</div>"
      ],
      "text/plain": [
       "   Polarity                          Date           User  \\\n",
       "0         0  Mon Apr 06 22:19:49 PDT 2009  scotthamilton   \n",
       "1         0  Mon Apr 06 22:19:53 PDT 2009       mattycus   \n",
       "2         0  Mon Apr 06 22:19:57 PDT 2009        ElleCTF   \n",
       "3         0  Mon Apr 06 22:19:57 PDT 2009         Karoli   \n",
       "4         0  Mon Apr 06 22:20:00 PDT 2009       joy_wolf   \n",
       "\n",
       "                                                Text  \n",
       "0  is upset that he can't update his Facebook by ...  \n",
       "1  @Kenichan I dived many times for the ball. Man...  \n",
       "2    my whole body feels itchy and like its on fire   \n",
       "3  @nationwideclass no, it's not behaving at all....  \n",
       "4                      @Kwesidei not the whole crew   "
      ]
     },
     "execution_count": 16,
     "metadata": {},
     "output_type": "execute_result"
    }
   ],
   "source": [
    "tweets.drop(['Flag', 'ID'], axis=1, inplace=True)\n",
    "tweets.head()"
   ]
  },
  {
   "cell_type": "code",
   "execution_count": 17,
   "id": "6f1a3353",
   "metadata": {},
   "outputs": [
    {
     "data": {
      "text/html": [
       "<div>\n",
       "<style scoped>\n",
       "    .dataframe tbody tr th:only-of-type {\n",
       "        vertical-align: middle;\n",
       "    }\n",
       "\n",
       "    .dataframe tbody tr th {\n",
       "        vertical-align: top;\n",
       "    }\n",
       "\n",
       "    .dataframe thead th {\n",
       "        text-align: right;\n",
       "    }\n",
       "</style>\n",
       "<table border=\"1\" class=\"dataframe\">\n",
       "  <thead>\n",
       "    <tr style=\"text-align: right;\">\n",
       "      <th></th>\n",
       "      <th>Polarity</th>\n",
       "      <th>Date</th>\n",
       "      <th>User</th>\n",
       "      <th>Text</th>\n",
       "    </tr>\n",
       "  </thead>\n",
       "  <tbody>\n",
       "    <tr>\n",
       "      <th>0</th>\n",
       "      <td>0</td>\n",
       "      <td>Mon Apr 06 22:19:49 PDT 2009</td>\n",
       "      <td>scotthamilton</td>\n",
       "      <td>is upset that he can't update his Facebook by ...</td>\n",
       "    </tr>\n",
       "    <tr>\n",
       "      <th>1</th>\n",
       "      <td>0</td>\n",
       "      <td>Mon Apr 06 22:19:53 PDT 2009</td>\n",
       "      <td>mattycus</td>\n",
       "      <td>@Kenichan I dived many times for the ball. Man...</td>\n",
       "    </tr>\n",
       "    <tr>\n",
       "      <th>2</th>\n",
       "      <td>0</td>\n",
       "      <td>Mon Apr 06 22:19:57 PDT 2009</td>\n",
       "      <td>ElleCTF</td>\n",
       "      <td>my whole body feels itchy and like its on fire</td>\n",
       "    </tr>\n",
       "    <tr>\n",
       "      <th>3</th>\n",
       "      <td>0</td>\n",
       "      <td>Mon Apr 06 22:19:57 PDT 2009</td>\n",
       "      <td>Karoli</td>\n",
       "      <td>@nationwideclass no, it's not behaving at all....</td>\n",
       "    </tr>\n",
       "    <tr>\n",
       "      <th>4</th>\n",
       "      <td>0</td>\n",
       "      <td>Mon Apr 06 22:20:00 PDT 2009</td>\n",
       "      <td>joy_wolf</td>\n",
       "      <td>@Kwesidei not the whole crew</td>\n",
       "    </tr>\n",
       "  </tbody>\n",
       "</table>\n",
       "</div>"
      ],
      "text/plain": [
       "   Polarity                          Date           User  \\\n",
       "0         0  Mon Apr 06 22:19:49 PDT 2009  scotthamilton   \n",
       "1         0  Mon Apr 06 22:19:53 PDT 2009       mattycus   \n",
       "2         0  Mon Apr 06 22:19:57 PDT 2009        ElleCTF   \n",
       "3         0  Mon Apr 06 22:19:57 PDT 2009         Karoli   \n",
       "4         0  Mon Apr 06 22:20:00 PDT 2009       joy_wolf   \n",
       "\n",
       "                                                Text  \n",
       "0  is upset that he can't update his Facebook by ...  \n",
       "1  @Kenichan I dived many times for the ball. Man...  \n",
       "2    my whole body feels itchy and like its on fire   \n",
       "3  @nationwideclass no, it's not behaving at all....  \n",
       "4                      @Kwesidei not the whole crew   "
      ]
     },
     "execution_count": 17,
     "metadata": {},
     "output_type": "execute_result"
    }
   ],
   "source": [
    "tweets1 = tweets[0:5000] \n",
    "tweets2 = tweets[905000:910000]\n",
    "\n",
    "# tweets = tweets1.add(tweets2, fill_value=0)\n",
    "\n",
    "tweets = [tweets1, tweets2]\n",
    "  \n",
    "tweets = pd.concat(tweets)\n",
    "\n",
    "tweets.head()\n",
    "#tweets.shape"
   ]
  },
  {
   "cell_type": "code",
   "execution_count": 18,
   "id": "6dc04787",
   "metadata": {},
   "outputs": [],
   "source": [
    "# re encode positive tweets to 1 instead of 4\n",
    "def encode(label):\n",
    "    if label == 0:\n",
    "        return 0\n",
    "    elif label == 4:\n",
    "        return 1"
   ]
  },
  {
   "cell_type": "code",
   "execution_count": 19,
   "id": "d5255a35",
   "metadata": {},
   "outputs": [],
   "source": [
    "tweets['Polarity'] = tweets.apply(lambda x: encode(x['Polarity']), axis=1)"
   ]
  },
  {
   "cell_type": "code",
   "execution_count": 20,
   "id": "ce3c2020",
   "metadata": {},
   "outputs": [
    {
     "data": {
      "text/html": [
       "<div>\n",
       "<style scoped>\n",
       "    .dataframe tbody tr th:only-of-type {\n",
       "        vertical-align: middle;\n",
       "    }\n",
       "\n",
       "    .dataframe tbody tr th {\n",
       "        vertical-align: top;\n",
       "    }\n",
       "\n",
       "    .dataframe thead th {\n",
       "        text-align: right;\n",
       "    }\n",
       "</style>\n",
       "<table border=\"1\" class=\"dataframe\">\n",
       "  <thead>\n",
       "    <tr style=\"text-align: right;\">\n",
       "      <th></th>\n",
       "      <th>Polarity</th>\n",
       "      <th>Date</th>\n",
       "      <th>User</th>\n",
       "      <th>Text</th>\n",
       "    </tr>\n",
       "  </thead>\n",
       "  <tbody>\n",
       "    <tr>\n",
       "      <th>0</th>\n",
       "      <td>0</td>\n",
       "      <td>Mon Apr 06 22:19:49 PDT 2009</td>\n",
       "      <td>scotthamilton</td>\n",
       "      <td>is upset that he can't update his Facebook by ...</td>\n",
       "    </tr>\n",
       "    <tr>\n",
       "      <th>1</th>\n",
       "      <td>0</td>\n",
       "      <td>Mon Apr 06 22:19:53 PDT 2009</td>\n",
       "      <td>mattycus</td>\n",
       "      <td>@Kenichan I dived many times for the ball. Man...</td>\n",
       "    </tr>\n",
       "    <tr>\n",
       "      <th>2</th>\n",
       "      <td>0</td>\n",
       "      <td>Mon Apr 06 22:19:57 PDT 2009</td>\n",
       "      <td>ElleCTF</td>\n",
       "      <td>my whole body feels itchy and like its on fire</td>\n",
       "    </tr>\n",
       "    <tr>\n",
       "      <th>3</th>\n",
       "      <td>0</td>\n",
       "      <td>Mon Apr 06 22:19:57 PDT 2009</td>\n",
       "      <td>Karoli</td>\n",
       "      <td>@nationwideclass no, it's not behaving at all....</td>\n",
       "    </tr>\n",
       "    <tr>\n",
       "      <th>4</th>\n",
       "      <td>0</td>\n",
       "      <td>Mon Apr 06 22:20:00 PDT 2009</td>\n",
       "      <td>joy_wolf</td>\n",
       "      <td>@Kwesidei not the whole crew</td>\n",
       "    </tr>\n",
       "  </tbody>\n",
       "</table>\n",
       "</div>"
      ],
      "text/plain": [
       "   Polarity                          Date           User  \\\n",
       "0         0  Mon Apr 06 22:19:49 PDT 2009  scotthamilton   \n",
       "1         0  Mon Apr 06 22:19:53 PDT 2009       mattycus   \n",
       "2         0  Mon Apr 06 22:19:57 PDT 2009        ElleCTF   \n",
       "3         0  Mon Apr 06 22:19:57 PDT 2009         Karoli   \n",
       "4         0  Mon Apr 06 22:20:00 PDT 2009       joy_wolf   \n",
       "\n",
       "                                                Text  \n",
       "0  is upset that he can't update his Facebook by ...  \n",
       "1  @Kenichan I dived many times for the ball. Man...  \n",
       "2    my whole body feels itchy and like its on fire   \n",
       "3  @nationwideclass no, it's not behaving at all....  \n",
       "4                      @Kwesidei not the whole crew   "
      ]
     },
     "execution_count": 20,
     "metadata": {},
     "output_type": "execute_result"
    }
   ],
   "source": [
    "tweets.head()"
   ]
  },
  {
   "cell_type": "markdown",
   "id": "f6485788",
   "metadata": {},
   "source": [
    "## BoW Vectorizer"
   ]
  },
  {
   "cell_type": "code",
   "execution_count": 21,
   "id": "1bab195b",
   "metadata": {},
   "outputs": [],
   "source": [
    "cvectorizer = CountVectorizer(analyzer='word', max_features=2000, \n",
    "                             tokenizer=word_tokenize, stop_words= stopwords.words('english'))"
   ]
  },
  {
   "cell_type": "code",
   "execution_count": 22,
   "id": "4ee6383f",
   "metadata": {},
   "outputs": [
    {
     "data": {
      "text/plain": [
       "(10000,)"
      ]
     },
     "execution_count": 22,
     "metadata": {},
     "output_type": "execute_result"
    }
   ],
   "source": [
    "df_count_Y = np.array(tweets['Polarity'])\n",
    "df_count_Y.shape"
   ]
  },
  {
   "cell_type": "code",
   "execution_count": 52,
   "id": "a0de1f2d",
   "metadata": {},
   "outputs": [
    {
     "name": "stdout",
     "output_type": "stream",
     "text": [
      "Unique words:  {'upset': 1843, 'ca': 319, \"n't\": 1216, 'update': 1836, 'facebook': 646, '...': 22, 'might': 1158, 'cry': 459, 'school': 1500, 'today': 1764, 'also': 128, '.': 20, 'blah': 258, '!': 0, '@': 73, 'many': 1132, 'times': 1758, 'ball': 212, 'managed': 1130, 'save': 1492, '50': 57, '%': 3, 'rest': 1452, 'go': 777, 'whole': 1916, 'body': 269, 'feels': 674, 'itchy': 960, 'like': 1067, 'fire': 698, ',': 17, \"'s\": 11, \"'m\": 9, 'mad': 1118, '?': 72, 'see': 1510, 'need': 1229, 'hug': 911, 'hey': 870, 'long': 1091, 'time': 1757, 'yes': 1984, '..': 21, 'bit': 255, 'lol': 1088, 'fine': 692, 'thanks': 1732, 'nope': 1249, 'que': 1403, 'spring': 1626, 'break': 289, 'city': 380, 'snowing': 1589, 'could': 436, 'bear': 228, 'watch': 1888, 'thought': 1746, 'loss': 1100, 'idk': 927, 'either': 590, 'never': 1235, 'talk': 1705, 'anymore': 143, 'would': 1958, \"'ve\": 12, 'first': 699, 'really': 1428, 'though': 1745, 'wish': 1926, 'got': 794, 'miss': 1172, 'premiere': 1379, \"'\": 5, 'death': 500, 'hurt': 919, 'film': 686, 'cut': 467, 'file': 684, 'taxes': 1710, 'ahh': 108, 'ive': 963, 'always': 130, 'wanted': 1878, 'love': 1104, 'oh': 1268, 'dear': 499, 'drinking': 555, 'day': 492, 'get': 760, 'much': 1209, 'done': 536, 'one': 1276, 'friend': 736, 'called': 326, 'asked': 172, 'meet': 1144, '*': 15, 'sigh': 1556, 'cake': 322, 'week': 1902, 'going': 782, 'class': 381, '8': 64, 'tomorrow': 1770, 'hate': 843, 'call': 325, 'wake': 1871, 'people': 1325, 'sleep': 1576, 'watching': 1891, 'im': 929, 'sad': 1480, '....': 23, 'ok': 1271, 'wo': 1932, 'almost': 122, 'track': 1784, 'gets': 761, 'depressed': 510, 'every': 619, 'account': 85, 'aim': 111, 'make': 1123, 'new': 1236, 'want': 1877, 'gear': 756, 'ride': 1460, 'may': 1139, 'b': 199, 'sleeping': 1577, 'option': 1286, 'morning': 1192, 'work': 1947, 'afternoon': 100, 'awe': 190, '1': 30, 'eyes': 642, 'night': 1244, 'sick': 1554, 'spent': 1624, 'hour': 903, 'sitting': 1572, 'shower': 1550, 'cause': 344, 'stand': 1629, 'back': 205, 'bed': 233, 'ill': 928, 'tell': 1717, 'ya': 1975, 'story': 1655, 'later': 1033, 'good': 785, 'three': 1747, 'hours': 904, 'sorry': 1610, 'came': 329, '(': 13, ')': 14, 'http': 909, ':': 69, 'depressing': 511, 'think': 1739, 'even': 615, 'know': 1015, 'kids': 1002, 'gym': 820, 'another': 140, 'gon': 783, 'na': 1217, 'fly': 709, 'girlfriend': 769, 'feel': 671, 'getting': 763, 'study': 1666, 'exam': 627, 'reason': 1429, 'guitar': 815, 'enough': 605, 'heart': 858, 'feeling': 673, 'wan': 1876, 'still': 1647, 'jonathanrknight': 980, 'awww': 196, 'soo': 1603, 'finally': 688, 'comfortable': 404, 'missed': 1173, 'falling': 653, 'asleep': 174, 'heard': 856, 'tracy': 1785, 'girl': 768, 'found': 726, 'family': 655, 'yay': 1978, 'happy': 838, 'job': 970, 'means': 1142, 'less': 1056, 'checked': 361, 'looks': 1097, 'happening': 836, 'ppl': 1375, 'w/': 1867, 'man': 1129, 'top': 1777, 'wear': 1895, 'meeting': 1145, 'burnt': 310, 'breaking': 291, 'tea': 1713, 'plan': 1347, 'broken': 299, 'promise': 1392, 'via': 1856, 'waiting': 1870, 'wow': 1959, 'tons': 1773, 'replies': 1445, 'friends': 737, 'tweets': 1814, \"'re\": 10, 'feed': 669, 'lot': 1102, 'chicken': 369, 'taking': 1704, 'put': 1401, 'vacation': 1852, 'photos': 1333, 'online': 1279, 'ago': 103, 'pc': 1322, 'crashed': 449, 'forget': 723, 'name': 1221, 'site': 1570, 'sure': 1688, 'dont': 538, 'away': 189, 'company': 410, 'andy': 135, 'happens': 837, 'dallas': 475, 'show': 1548, 'ta': 1700, 'say': 1494, \"'d\": 6, 'shows': 1552, 'use': 1846, 'music': 1212, 'game': 751, 'ugh': 1824, 'u': 1823, 'move': 1200, 'already': 126, 'hmmm': 882, 'random': 1419, 'glad': 774, 'hear': 855, 'well': 1907, 'playing': 1356, 'leaving': 1050, 'life': 1065, 'cool': 430, 'sadly': 1481, 'gotten': 795, 'experience': 638, 'post': 1369, 'nice': 1240, 'bad': 207, 'rain': 1415, 'comes': 403, '5am': 58, 'around': 165, 'lost': 1101, 'pay': 1320, 'phone': 1331, 'bill': 252, 'lmao': 1084, 'aw': 186, 'mo': 1176, 'jobs': 971, 'money': 1184, 'hell': 864, 'min': 1164, '4': 53, 'f': 643, 'n': 1215, 'forever': 722, 'soon': 1604, 'agreed': 105, 'saw': 1493, 'haha': 822, 'dude': 563, 'look': 1093, 'em': 593, 'unless': 1835, 'someone': 1596, 'says': 1496, 'added': 94, 'terrible': 1721, 'pop': 1366, 'right': 1462, 'start': 1634, 'working': 1949, 'least': 1047, 'ugly': 1826, '.......': 26, 'black': 257, 'business': 312, 'shoes': 1541, 'lucky': 1112, 'run': 1476, 'cute': 468, 'girls': 770, 'smells': 1585, 'comments': 408, 'asap': 169, 'tonight': 1771, 'fml': 710, 'arms': 164, 'sore': 1609, 'tennis': 1720, 'saying': 1495, 'bye': 317, 'ur': 1844, 'shame': 1532, 'booked': 272, 'paid': 1303, 'mine': 1166, 'boo': 270, '#': 1, 'damn': 477, 'blast': 259, 'hates': 844, 'throat': 1748, 'worse': 1955, 'mama': 1128, 'tummy': 1801, 'hurts': 921, 'wonder': 1938, 'anything': 145, 'stop': 1650, 'fat': 662, 'ones': 1277, 'babe': 202, 'fam': 654, 'thankfully': 1731, 'evil': 624, 'laugh': 1035, 'attention': 181, 'covered': 444, 'design': 512, 'wednesday': 1901, 'b-day': 200, '2': 42, 'poor': 1364, 'hills': 876, 'pray': 1376, 'please': 1357, 'ex': 625, 'babies': 203, '1st': 41, 'birthday': 254, 'party': 1315, 'headache': 850, 'hmm': 881, 'enjoy': 602, 'problems': 1387, 'things': 1738, 'find': 690, 'little': 1079, 'puppy': 1398, 'since': 1563, 'easter': 579, 'able': 79, 'ohh': 1269, '.....': 24, 'actually': 91, 'follow': 713, 'nite': 1245, 'favorite': 665, 'lose': 1098, 'missing': 1175, 'california': 324, 'hope': 893, 'fast': 661, 'yesterday': 1986, 'pain': 1304, 'fail': 648, 'behind': 238, 'classes': 382, '&': 4, 'quot': 1410, ';': 70, 'house': 905, 'remember': 1440, 'leg': 1052, 'serious': 1523, 'laptop': 1027, 'mommy': 1180, 'training': 1788, 'misses': 1174, 'rather': 1420, 'send': 1518, 'messages': 1154, 'year': 1981, 'thing': 1737, 'laying': 1041, 'voice': 1864, 'sooo': 1606, 'killed': 1004, 'kutner': 1018, 'sense': 1520, 'believe': 239, 'happened': 835, 'cuz': 469, 'yeah': 1980, 'chance': 351, 'cant': 333, 'hanging': 832, 'sing': 1564, 'sucks': 1673, 'aww': 195, 'beach': 227, 'w': 1866, 'pissed': 1342, 'radio': 1414, 'station': 1641, 'head': 849, 'sounds': 1613, 'mention': 1150, 'crying': 460, 'made': 1119, 'late': 1031, 'glass': 775, 'big': 249, 'fan': 656, 'must': 1213, 'wait': 1869, 'something': 1597, 'else': 592, 'broke': 298, 'seems': 1513, 'longer': 1092, 'cold': 399, 'weather': 1897, 'take': 1701, 'turn': 1803, 'incredible': 935, 'stuff': 1668, 'hoping': 896, 'notice': 1256, 'told': 1767, 'said': 1483, 'bedtime': 235, 'alive': 118, 'tired': 1762, 'imma': 931, 'try': 1798, 'hopefully': 894, 'snow': 1588, 'thank': 1729, 'letting': 1060, 'direct': 524, 'message': 1153, 'test': 1722, '10th': 33, 'win': 1919, 'without': 1931, 'guess': 812, 'leavin': 1049, 'finish': 695, 'editing': 586, 'probably': 1385, 'happen': 834, '12': 35, 'pages': 1302, 'left': 1051, 'read': 1421, '9th': 68, 'amp': 134, 'princess': 1384, 'end': 597, 'easy': 580, 'books': 273, 'died': 518, 'mom': 1178, 'worried': 1953, 'better': 247, 'breakfast': 290, 'keep': 993, 'waking': 1872, 'lame': 1025, 'understand': 1831, 'heroes': 869, 'season': 1506, 'living': 1083, 'fun': 745, 'food': 719, 'free': 730, 'ate': 178, 'ass': 175, 'coke': 398, 'hard': 839, 'hot': 901, 'studying': 1667, 'star': 1631, '-': 18, 'apps': 158, 'sweet': 1693, 'although': 129, 'sent': 1521, 'picked': 1336, 'st': 1628, 'pretty': 1382, 'pick': 1335, 'way': 1893, '......': 25, 'alone': 123, 'downstairs': 547, 'mean': 1141, 'seriously': 1524, 'kinda': 1007, 'chicago': 367, 'far': 659, 'stuck': 1663, 'awake': 187, 'middle': 1157, 'second': 1508, 'felt': 678, 'gosh': 792, 'page': 1301, 'sooooo': 1608, 'history': 877, 'crazy': 450, 'wind': 1920, '=': 71, 'currently': 464, 'acting': 90, 'weird': 1905, 'ho': 883, 'thinking': 1740, 'full': 744, 'songs': 1602, 'ughh': 1825, 'dvd': 568, 'cos': 432, 'deal': 498, 'website': 1899, 'tips': 1761, 'swear': 1692, 'losing': 1099, 'tweeps': 1808, 'realized': 1427, 'hiding': 872, 'staying': 1644, 'neighbors': 1232, 'danny': 483, 'wasnt': 1883, 'live': 1080, 'chat': 358, 'car': 335, '3': 50, 'trip': 1794, 'soooo': 1607, 'check': 360, 'closed': 390, '10': 31, 'downloading': 545, 'album': 116, 'come': 402, 'days': 493, 'woke': 1933, 'written': 1962, 'e-mail': 571, 'early': 574, 'university': 1834, 'hill': 875, 'making': 1126, 'yet': 1987, 'boring': 276, 'lazy': 1042, 'buddy': 304, 'ny': 1259, 'robluketic': 1467, 'french': 732, 'south': 1615, 'beautiful': 231, 'problem': 1386, 'block': 263, 'clock': 388, 'difficult': 522, 'fb': 667, 'guy': 818, 'dying': 569, 'next': 1238, '24': 46, 'woman': 1936, 'limited': 1072, 'guys': 819, 'dog': 533, 'shit': 1539, '~': 1998, 'screwed': 1503, 'tonite': 1772, 'interview': 948, 'luck': 1111, 'choose': 376, 'help': 867, 'dead': 496, 'kill': 1003, 'seen': 1514, 'till': 1756, 'solid': 1593, 'hahaha': 824, 'hrs': 908, 'mind': 1165, 'boot': 274, 'goin': 781, 'library': 1062, 'nap': 1223, 'kind': 1006, 'bus': 311, 'ghost': 765, 'world': 1952, 'canada': 332, 'supposed': 1687, 'shop': 1543, 'movie': 1202, 'macbook': 1116, 'fell': 676, 'crash': 448, 'somebody': 1594, 'couldnt': 437, 'handle': 829, 'cat': 339, 'heat': 859, 'donniewahlberg': 537, 'looking': 1096, 'thats': 1734, 'fit': 701, 'pictures': 1340, 'ever': 618, 'tho': 1744, 'congrats': 420, 'totally': 1779, 'forgot': 724, 'amazing': 131, 'xxx': 1973, 'twitter': 1816, 'using': 1848, 'stupid': 1669, 'outside': 1294, 'kidding': 1001, 'scared': 1497, 'stress': 1660, 'become': 232, 'us': 1845, 'news': 1237, 'trying': 1799, 'picture': 1339, 'upload': 1841, 'red': 1433, 'sox': 1616, 'forward': 725, 'opening': 1284, 'dunno': 567, 'home': 889, 'town': 1783, 'pls': 1359, 'explain': 639, 'let': 1058, 'old': 1274, 'walk': 1873, 'hello': 866, '2009': 44, 'eating': 583, 'round': 1473, 'place': 1345, '2nd': 49, 'bathroom': 222, 'gay': 755, 'lt': 1110, 'lonely': 1090, '22': 45, 'female': 679, 'office': 1265, 'celebrate': 346, 'weekend': 1903, 'nothing': 1255, 'officially': 1266, 'wont': 1941, 'write': 1960, 'band': 213, 'lead': 1043, 'gt': 811, 'john': 973, 'play': 1353, 'fruit': 739, 'doctor': 530, 'bff': 248, 'shout': 1547, 'video': 1858, 'card': 336, 'naked': 1220, 'confused': 419, 'jk': 969, 'sort': 1611, 'iphone': 951, 'past': 1319, 'change': 352, 'wat': 1887, 'gah': 750, 'ring': 1463, 'download': 544, 'internet': 947, 'fuck': 740, 'baby': 204, 'fucked': 741, 'uni': 1833, 'april': 159, 'july': 986, 'comin': 405, 'jealous': 967, 'face': 645, 'fucking': 743, 'ooh': 1281, 'iï¿½m': 964, 'excited': 631, 'youtube': 1991, 'bank': 214, 'holiday': 885, 'agree': 104, 'theres': 1736, 'often': 1267, 'hilarious': 874, 'went': 1909, 'link': 1074, 'neither': 1233, 'tweeted': 1811, 'nearly': 1228, 'posted': 1370, 'goes': 780, 'needs': 1231, 'son': 1600, 'stay': 1642, 'client': 387, 'boss': 278, 'english': 601, 'text': 1725, '--': 19, 'games': 752, 'related': 1436, 'figure': 683, '/': 27, 'hotel': 902, 'etc': 614, 'bc': 225, 'slept': 1579, 'afraid': 99, 'code': 396, 'gone': 784, 'needed': 1230, 'yup': 1996, 'r': 1412, 'worst': 1956, 'tough': 1781, 'list': 1076, 'bar': 216, 'arrived': 166, 'dancing': 480, 'art': 167, 'wants': 1879, 'ah': 106, 'bet': 245, 'basketball': 220, 'management': 1131, 'assignment': 176, 'hopes': 895, 'doesnt': 532, 'trouble': 1795, 'worked': 1948, '5': 56, 'argh': 162, 'sleepy': 1578, 'wide': 1917, 'sold': 1592, 'watched': 1889, 'dreading': 549, 'according': 84, 'bro': 297, 'fight': 682, 'sandra': 1488, 'cantu': 334, 'everybody': 620, 'two': 1820, 'seeing': 1511, 'everyday': 621, 'germany': 759, 'closing': 392, 'cheese': 365, 'idea': 925, 'children': 370, 'seem': 1512, 'wishing': 1928, 'walking': 1874, 'energy': 599, 'awesome': 191, 'dang': 481, 'knew': 1013, 'earlier': 573, 'planned': 1350, 'writing': 1961, 'paper': 1309, 'course': 441, 'access': 83, 'pack': 1299, 'unfortunately': 1832, 'weeks': 1904, 'busy': 313, 'latest': 1034, 'project': 1390, 'ha': 821, 'sun': 1679, 'harder': 840, 'tried': 1793, 'state': 1639, 'omg': 1275, 'mouth': 1199, 'annoyed': 138, 'easily': 577, 'videos': 1859, 'spending': 1623, 'leave': 1048, 'years': 1982, 'worth': 1957, 'alot': 125, '_': 76, 'finishing': 697, 'possible': 1368, 'ache': 88, 'last': 1029, 'miserable': 1171, 'hang': 831, 'dumb': 565, 'sat': 1490, 'bay': 223, 'hubby': 910, 'thinks': 1741, 'important': 932, 'trek': 1792, 'matter': 1138, 'easier': 576, 'hair': 826, 'color': 401, 'within': 1930, 'whoa': 1915, 'coming': 406, 'suppose': 1686, 'wtf': 1965, 'maybe': 1140, 'couple': 440, 'hon': 891, 'productive': 1388, 'worry': 1954, 'learned': 1045, 'words': 1946, 'downloads': 546, 'movies': 1203, 'rip': 1464, 'homework': 890, 'taken': 1702, 'scratch': 1501, 'half': 827, 'cookies': 428, 'listening': 1078, 'meetings': 1146, 'email': 594, '6pm': 62, 'dark': 485, 'reply': 1446, 'ages': 102, 'men': 1149, 'nick': 1242, 'jon': 977, 'net': 1234, 'created': 452, 'seconds': 1509, 'stock': 1648, 'running': 1477, 'swimming': 1695, 'sucked': 1672, 'die': 517, 'info': 938, 'open': 1283, 'mail': 1120, 'um': 1829, 'yucky': 1993, 'quick': 1406, 'song': 1601, 'myspace': 1214, 'dad': 471, 'started': 1635, 'boyfriend': 284, 'complete': 412, 'works': 1951, 'ad': 92, 'host': 900, 'rolls': 1471, 'monday': 1182, 'episode': 609, 'keeping': 994, 'fingers': 694, 'crossed': 457, 'eat': 581, 'vegas': 1853, 'hungry': 916, 'tweetdeck': 1810, 'btw': 303, 'funny': 747, 'freezing': 731, 'wondering': 1940, 'strong': 1661, 'hold': 884, 'drive': 556, 'anyone': 144, 'pushing': 1400, 'pants': 1308, 'street': 1659, 'shoe': 1540, 'changed': 353, 'gave': 754, 'bored': 275, 'eh': 589, 'definitely': 506, 'copy': 431, 'studio': 1665, 'silly': 1560, 'anyway': 147, 'bright': 293, 'side': 1555, 'fish': 700, 'apparently': 153, 'taste': 1708, 'everyone': 622, 'airport': 114, 'sell': 1516, 'bars': 218, 'comment': 407, 'stayed': 1643, 'strange': 1657, 'legal': 1053, 'saturday': 1491, 'along': 124, 'green': 804, 'number': 1258, 'yea': 1979, 'quiet': 1407, 'nobody': 1246, 'cooking': 429, 'okay': 1273, 'talked': 1706, 'nature': 1225, 'fair': 650, '100': 32, 'tweet': 1809, 'everything': 623, 'chocolate': 374, 'keeps': 995, 'dreams': 551, 'wall': 1875, \"'ll\": 8, 'sister': 1568, 'uh': 1827, 'god': 779, 'ruined': 1475, 'belly': 241, 'button': 314, 'makes': 1124, 'cheap': 359, 'buying': 316, 'fall': 652, 'nose': 1251, '+': 16, 'nasty': 1224, 'budget': 305, 'due': 564, 'apple': 154, 'dammit': 476, 'stopped': 1651, 'quiz': 1409, 'others': 1291, 'prayers': 1377, 'real': 1424, 'twilight': 1815, 'jst': 983, 'ddlovato': 494, 'book': 271, 'boston': 279, 'public': 1397, 'however': 906, 'heading': 852, 'install': 943, 'bloody': 267, 'garage': 753, 'park': 1312, 'reading': 1422, 'struggling': 1662, 'continue': 425, 'flowers': 707, 'camera': 330, 'liking': 1070, 'used': 1847, 'pity': 1343, 'blocked': 264, 'china': 373, 'best': 244, 'daddy': 472, 'brother': 300, 'angel': 136, 'considering': 422, 'grr': 810, 'date': 487, '40': 54, 'cats': 342, 'crap': 446, 'horrible': 897, 'rock': 1468, 'tuesday': 1800, 'ap': 150, 'cook': 426, 'took': 1775, 'items': 961, 'ebay': 584, 'takes': 1703, 'premier': 1378, 'presentation': 1381, '$': 2, 'starts': 1637, 'straight': 1656, 'intro': 949, 'sound': 1612, 'fav': 664, 'click': 386, 'states': 1640, 'turned': 1804, 'hd': 848, 'support': 1685, 'app': 152, 'store': 1652, 'allergic': 119, 'thursday': 1751, 'tree': 1791, 'small': 1582, 'wasted': 1886, 'scary': 1498, 'finding': 691, 'ready': 1423, 'bread': 288, 'toast': 1763, 'nicely': 1241, 'calling': 327, 'computer': 415, 'listen': 1077, 'xbox': 1967, 'meant': 1143, 'camp': 331, 'friday': 734, 'exactly': 626, '6': 59, 'dress': 552, 'shopping': 1544, 'mac': 1115, 'lasts': 1030, 'mum': 1210, 'gettin': 762, 'wen': 1908, 'somewhere': 1599, 'close': 389, 'cried': 455, 'absolutely': 80, 'true': 1796, 'heidimontag': 863, 'cam': 328, 'beat': 229, 'hun': 915, 'difference': 520, 'wearing': 1896, 'isnt': 955, 'word': 1944, 'dance': 479, 'team': 1715, 'anywhere': 149, 'goodnight': 789, 'tweeters': 1812, 'episodes': 610, 'bunch': 308, 'uk': 1828, 'moment': 1179, 'learning': 1046, 'replied': 1444, 'catch': 340, 'thru': 1750, 'nd': 1226, 'dry': 562, 'set': 1527, 'feet': 675, 'ground': 807, '[': 74, ']': 75, 'loves': 1107, 'moms': 1181, 'mood': 1188, 'oven': 1296, '15': 38, 'minutes': 1170, 'lots': 1103, 'disappointed': 526, 'mostly': 1193, 'ending': 598, 'names': 1222, 'folks': 712, 'yawn': 1977, 'horses': 898, 'gossip': 793, 'repeat': 1442, 'tax': 1709, 'return': 1454, 'dream': 550, 'cream': 451, 'eye': 641, 'different': 521, 'wet': 1911, 'umm': 1830, 'plus': 1360, 'flu': 708, 'outta': 1295, 'water': 1892, 'minute': 1169, 'earthquake': 575, 'italy': 959, 'server': 1525, 'trash': 1789, 'empty': 596, 'ipod': 952, 'buy': 315, 'coz': 445, 'gift': 766, 'cell': 347, 'finished': 696, 'stephenkruiser': 1646, 'ran': 1418, 'wrote': 1964, 'moony394': 1189, 'stomach': 1649, 'counting': 439, 'visit': 1862, 'care': 337, '13': 36, 'room': 1472, 'itunes': 962, 'docs': 529, 'pics': 1338, 'step': 1645, 'knows': 1017, 'loved': 1105, 'hugs': 913, 'white': 1914, 'vs': 1865, 'bah': 211, 'month': 1186, 'knowing': 1016, 'ahead': 107, 'chill': 371, 'egg': 587, 'exist': 636, 'jus': 989, 'dun': 566, 'wishes': 1927, 'tour': 1782, 'great': 803, 'planet': 1349, 'v': 1851, 'abt': 81, 'sarah': 1489, 'point': 1362, 'guessing': 813, 'train': 1787, 'four': 727, 'arent': 161, 'delicious': 507, 'paris': 1311, 'milk': 1163, 'drink': 554, 'finals': 689, 'none': 1248, 'custom': 465, 'square': 1627, 'background': 206, 'la': 1020, 'talking': 1707, 'plans': 1352, 'ordered': 1289, 'instead': 944, 'hit': 878, 'nah': 1218, 'received': 1430, 'havnt': 847, 'awwwww': 198, 'feelin': 672, 'decision': 503, '14': 37, 'part': 1313, 'warm': 1880, 'march': 1134, 'gross': 806, 'follower': 715, 'aint': 112, 'nothin': 1254, 'twitters': 1819, 'vid': 1857, 'single': 1566, 'gives': 773, 'invite': 950, 'healthy': 854, \"'em\": 7, 'hella': 865, 'clothes': 393, 'double': 540, 'fans': 657, 'suck': 1671, 'wrong': 1963, 'decided': 502, 'boy': 283, 'sydney': 1697, 'joke': 976, 'except': 630, 'spell': 1621, 'yr': 1992, 'spend': 1622, 'fab': 644, 'strawberry': 1658, 'insomnia': 941, 'screen': 1502, 'finger': 693, 'traffic': 1786, 'cuddle': 461, 'software': 1591, 'updates': 1838, 'telling': 1718, 'diet': 519, 'pancakes': 1306, 'hating': 845, 'google': 790, 'speak': 1618, 'clean': 384, 'moving': 1204, 'share': 1533, 'caught': 343, 'winter': 1925, 'desk': 513, 'ear': 572, 'infection': 937, 'sunday': 1680, 'awhile': 194, 'yo': 1988, 'alarm': 115, 'fed': 668, 'ladies': 1022, 'goodness': 788, 'travel': 1790, 'france': 728, 'miles': 1160, 'review': 1455, 'cup': 463, 'coffee': 397, 'alcohol': 117, 'dentist': 509, 'drunk': 561, 'realised': 1426, 'huge': 912, 'looked': 1094, 'crappy': 447, 'law': 1039, '18': 40, 'driving': 558, 'beer': 236, 'kitchen': 1011, 'tests': 1724, 'failed': 649, 'followed': 714, 'anybody': 142, 'afford': 98, 'pet': 1330, '33': 52, 'door': 539, 'large': 1028, 'usually': 1850, 'character': 356, 'austin': 183, 'lesson': 1057, 'ten': 1719, 'mins': 1168, 'shut': 1553, 'essay': 613, 'usual': 1849, 'played': 1354, 'hand': 828, 'ouch': 1293, 'sites': 1571, 'together': 1766, 'checking': 362, 'ideas': 926, 'ice': 923, 'grass': 800, 'bike': 251, 'loads': 1086, 'dropped': 560, 'london': 1089, 'raining': 1416, 'completely': 414, 'contacts': 424, 'starting': 1636, 'lately': 1032, 'contact': 423, 'america': 132, 'lovely': 1106, 'order': 1288, 'posts': 1372, 'properly': 1394, 'italian': 958, 'fact': 647, 'quite': 1408, 'fake': 651, 'cooked': 427, 'exams': 628, 'circle': 379, 'suddenly': 1674, 'journey': 981, 'lookin': 1095, 'darn': 486, 'allergies': 120, 'area': 160, 'morn': 1190, 'legs': 1054, 'hi': 871, 'l': 1019, 'fixed': 704, 'king': 1008, 'kitty': 1012, 'interesting': 946, 'brilliant': 294, 'bring': 295, 'record': 1432, 'surprise': 1689, 'kal_penn': 991, 'helping': 868, 'forcing': 721, 'seat': 1507, 'mobile': 1177, 'waste': 1885, 'shoot': 1542, 'turning': 1805, 'line': 1073, 'didnt': 516, 'decent': 501, 'grateful': 801, 'ohhh': 1270, 'ps': 1396, 'somehow': 1595, 'cruise': 458, 'group': 808, 'wit': 1929, 'annoying': 139, 'def': 505, 'kno': 1014, 'mileycyrus': 1162, '30': 51, 'learn': 1044, 'innocent': 939, 'selling': 1517, 'web': 1898, 'ben': 242, 'total': 1778, 'cost': 433, 'kelly': 996, 'lay': 1040, 'application': 155, 'killing': 1005, 'glasses': 776, 'arm': 163, 'slow': 1580, '20': 43, 'ask': 171, 'blood': 266, 'sis': 1567, 'skype': 1575, 'laughing': 1036, 'turns': 1806, 'hurting': 920, 'holidays': 886, 'woot': 1943, 'hearing': 857, '7': 63, 'notes': 1253, 'followers': 716, 'release': 1438, 'e': 570, '25': 47, 'classic': 383, 'bags': 210, 'edit': 585, 'answer': 141, 'bt': 302, 'launch': 1037, 'foot': 720, 'smart': 1583, 'given': 772, 'theory': 1735, 'woken': 1934, 'main': 1121, 'road': 1465, 'hannah': 833, 'alright': 127, 'planning': 1351, 'evening': 616, 'joined': 975, 'rainy': 1417, 'b4': 201, 'til': 1755, 'summer': 1678, 'give': 771, 'spam': 1617, 'extra': 640, 'hospital': 899, 'ellen': 591, 'da': 470, 'fix': 703, 'box': 282, 'tiny': 1759, 'appointment': 156, 'addicted': 95, 'dressed': 553, 'self': 1515, 'slowly': 1581, 'focus': 711, 'note': 1252, 'machine': 1117, 'closer': 391, 'exciting': 632, 'pass': 1316, 'shes': 1534, 'parents': 1310, 'growing': 809, 'p': 1298, 'sync': 1698, 'person': 1329, 'pic': 1334, 'signed': 1559, 'shirt': 1538, 'inside': 940, 'packing': 1300, 'bag': 209, 'bio': 253, 'tv': 1807, 'mother': 1194, 'cough': 435, 'fantastic': 658, 'gutted': 817, 'windy': 1923, 'concert': 417, 'expensive': 637, 'texts': 1726, 'exercise': 634, 'paying': 1321, 'kisses': 1010, 'excellent': 629, 'burn': 309, 'motivation': 1197, 'west': 1910, 'coast': 395, 'badly': 208, 'australia': 184, 'driver': 557, 'christian': 377, 'xoxo': 1970, 'doubt': 541, 'hehehe': 862, 'heh': 860, 'fellow': 677, 'special': 1619, 'bday': 226, 'id': 924, 'whats': 1913, 'blip.fm': 262, 'normal': 1250, 'tweeting': 1813, 'chick': 368, 'plane': 1348, 'tickets': 1754, 'tom': 1768, 'awful': 193, 'imagine': 930, 'cousin': 443, 'following': 718, 'bleh': 260, 'deadline': 497, 'bought': 280, '6am': 61, 'thankful': 1730, 'x': 1966, 'holy': 888, 'original': 1290, 'revision': 1456, 'final': 687, 'mark': 1135, 'nails': 1219, 'passed': 1317, 'c': 318, 'ng': 1239, 'moved': 1201, 'daisy': 474, 'oops': 1282, 'cd': 345, '2day': 48, 'heads': 853, 'high': 873, 'dinner': 523, 'dm': 528, 'smile': 1586, 'brings': 296, 'memories': 1148, 'issue': 956, 'deep': 504, '8am': 66, 'ticket': 1753, 'hm': 880, 'challenge': 350, 'david': 490, 'question': 1404, 'hehe': 861, 'computers': 416, 'upgrade': 1840, 'super': 1683, 'fault': 663, 'gig': 767, 'ace': 87, 'simple': 1561, 'kick': 998, 'blue': 268, 'havent': 846, 'hoo': 892, 'light': 1066, 'headed': 851, 'major': 1122, 'th': 1727, 'service': 1526, 'windows': 1922, 'issues': 957, 'months': 1187, 'peace': 1323, 'mornin': 1191, 'lie': 1063, 'likes': 1069, 'beats': 230, 'liked': 1068, 'situation': 1573, 'angry': 137, 'search': 1505, 'key': 997, 'shall': 1531, 'enjoying': 604, '`': 77, 'soup': 1614, 'lil': 1071, 'hahahaha': 825, 'goodbye': 786, 'showed': 1549, 'add': 93, 'favourite': 666, 'remembered': 1441, 'race': 1413, 'motivated': 1196, 'perhaps': 1328, 'especially': 612, 'joy': 982, 'beginning': 237, 'brain': 287, 'lady': 1023, 'appreciate': 157, 'mate': 1136, 'rubbish': 1474, 'obviously': 1262, 'near': 1227, 'ow': 1297, 'bitch': 256, 'shift': 1535, 'dougiemcfly': 543, 'msg': 1207, 'holland': 887, '11': 34, 'shot': 1546, 'tip': 1760, 'eaten': 582, 'lunch': 1113, 'oprah': 1285, 'tony': 1774, 'husband': 922, 'wonderful': 1939, 'creepy': 454, 'dis': 525, 'truth': 1797, 'lab': 1021, 'report': 1447, 'msn': 1208, 'woo': 1942, 'goal': 778, 'grad': 798, 'charge': 357, 'june': 988, 'sux': 1691, 'places': 1346, 'fresh': 733, 'shining': 1536, 'singing': 1565, 'sign': 1558, 'age': 101, 'air': 113, 'blog': 265, 'low': 1109, 'goodmorning': 787, 'poorly': 1365, 'melbourne': 1147, 'mondays': 1183, 'updating': 1839, 'profile': 1389, 'ï¿½': 1999, 'tommcfly': 1769, 'sims': 1562, 'youre': 1990, 'east': 578, 'hands': 830, 'math': 1137, 'power': 1374, 'rid': 1459, 'enjoyed': 603, 'future': 748, 'safe': 1482, 'disney': 527, 'channel': 355, 'third': 1742, 'guilty': 814, 'cheer': 363, 'bout': 281, 'short': 1545, 'awwww': 197, 'mess': 1152, 'ai': 110, 'entire': 606, 'accounts': 86, 'twitterberry': 1817, 'window': 1921, 'chillin': 372, 'sugar': 1676, 'salt': 1487, 'fried': 735, 'rice': 1457, 'sometimes': 1598, 'sales': 1486, 'potential': 1373, 'laundry': 1038, 'proud': 1395, 'messed': 1155, '9': 67, 'funeral': 746, 'sooner': 1605, 'cable': 320, 'gorgeous': 791, 'roll': 1470, 'smoke': 1587, 'impossible': 933, 'files': 685, 'five': 702, 'hurry': 918, 'tune': 1802, 'wedding': 1900, 'regular': 1434, 'schofe': 1499, 'watchin': 1890, 'pizza': 1344, '17': 39, 'level': 1061, 'updated': 1837, 'sale': 1485, 'banned': 215, 'teeth': 1716, 'price': 1383, 'entry': 607, 'throw': 1749, 'obama': 1261, 'roads': 1466, 'sunshine': 1682, 'yep': 1983, 'sf': 1529, 'bath': 221, 'todays': 1765, 'rocks': 1469, 'sunny': 1681, 'lets': 1059, 'wash': 1882, 'flight': 706, 'government': 796, 'assignments': 177, 'teacher': 1714, 'graduation': 799, 'common': 409, 'george': 757, 'ahhh': 109, 'txt': 1821, 'allowed': 121, 'yum': 1994, 'xd': 1968, 'lived': 1081, 'hat': 842, 'xx': 1972, 'anytime': 146, 'grey': 805, 'pink': 1341, 'rustyrockets': 1478, 'bedroom': 234, 'crisps': 456, 'standing': 1630, 'atm': 180, 'gray': 802, 'sky': 1574, 'questions': 1405, 'lies': 1064, 'k': 990, 'choice': 375, 'miley': 1161, 'stars': 1633, 'huh': 914, 'eminem': 595, 'error': 611, 'yall': 1976, 'winning': 1924, 'spotify': 1625, 'version': 1854, 'nyc': 1260, 'thnx': 1743, 'orange': 1287, 'a.m.': 78, 'starbucks': 1632, 'college': 400, 'sushi': 1690, 'photo': 1332, 'xp': 1971, 'island': 954, 'system': 1699, 'festival': 680, 'de': 495, 'pool': 1363, 'beta': 246, 'quote': 1411, 'fashion': 660, 'freaking': 729, 'offered': 1264, 'ff': 681, 'reports': 1448, 'available': 185, 'cheers': 364, 'wife': 1918, 'gunna': 816, 'blessed': 261, 'article': 168, 'epic': 608, 'onto': 1280, 'load': 1085, 'jonas': 978, 'brothers': 301, 'count': 438, 'ac': 82, 'gfalcone601': 764, 'picking': 1337, 'podcast': 1361, 'doctors': 531, 'results': 1453, 'vet': 1855, 'loving': 1108, 'daughter': 488, 'across': 89, 'joe': 972, 'type': 1822, 'suffering': 1675, '80': 65, 'di': 515, 'sa': 1479, 'flat': 705, 'boys': 285, 'competition': 411, 'jeans': 968, 'inspiration': 942, 'dogs': 534, 'church': 378, 'dan': 478, 'ireland': 953, 'research': 1450, 'panic': 1307, 'bugs': 307, 'breath': 292, 'daily': 473, 'bug': 306, 'credit': 453, 'ashley': 170, 'german': 758, 'mums': 1211, 'vista': 1863, 'fuckin': 742, 'tooth': 1776, 'feedback': 670, 'perfect': 1326, 'changing': 354, 'mr': 1205, 'yummy': 1995, 'wordpress': 1945, 'otherwise': 1292, 'coursework': 442, 'twittering': 1818, 'links': 1075, 'rehearsal': 1435, 'view': 1860, 'kid': 1000, 'welcome': 1906, 'offer': 1263, 'jump': 987, 'thanx': 1733, 'putting': 1402, 'stores': 1653, 'dave': 489, 'xo': 1969, 'excuse': 633, 'exhausted': 635, 'lake': 1024, 'england': 600, 'touch': 1780, 'front': 738, 'congratulations': 421, 'smell': 1584, 'request': 1449, 'replace': 1443, 'american': 133, 'dougie': 542, 'sit': 1569, 'cleaning': 385, 'swim': 1694, 'impressed': 934, 'social': 1590, 'customers': 466, 'bella': 240, 'daniel': 482, 'dragging': 548, 'speech': 1620, 'biggest': 250, 'mountains': 1198, 'born': 277, 'relaxing': 1437, 'mall': 1127, 'indeed': 936, 'recently': 1431, 'cafe': 321, 'paint': 1305, 'riding': 1461, 'conference': 418, 'player': 1355, 'mighty': 1159, 'interested': 945, 'realise': 1425, 'peeps': 1324, 'certainly': 348, 'purple': 1399, 'nicole': 1243, 'barely': 217, 'catching': 341, 'adding': 96, 'kicking': 999, 'noticed': 1257, '|': 1997, 'bradiewebbstack': 286, 'taylor': 1711, 'w/o': 1868, \"y'all\": 1974, 'young': 1989, 'despite': 514, 'met': 1156, 'passes': 1318, 'sending': 1519, 'marathon': 1133, 'mothers': 1195, '4th': 55, 'land': 1026, 'onion': 1278, 'hardly': 841, 'showing': 1551, 'sexy': 1528, 'swine': 1696, 'asking': 173, 'lemon': 1055, 'juice': 985, 'whatever': 1912, 'local': 1087, 'testing': 1723, 'proper': 1393, 'present': 1380, 'ways': 1894, 'hunting': 917, 'drop': 559, 'women': 1937, 'sea': 1504, 'storm': 1654, 'hahah': 823, 'pleasure': 1358, 'performance': 1327, 'makeup': 1125, 'shake': 1530, 'workout': 1950, 'richard': 1458, 'bbq': 224, 'chai': 349, 'relief': 1439, 'apartment': 151, 'mini': 1167, 'awards': 188, 'chem': 366, 'tha': 1728, 'sum': 1677, 'ok.': 1272, 'eggs': 588, 'join': 974, 'posting': 1371, 'salad': 1484, 'hiya': 879, 'cakes': 323, 'yess': 1985, 'parties': 1314, 'student': 1664, 'james': 966, 'couch': 434, 'lives': 1082, 'series': 1522, 'mentioned': 1151, 'g': 749, 'kiss': 1009, 'wars': 1881, 'montana': 1185, 'adorable': 97, 'juddday': 984, 'club': 394, 'completed': 413, 'taylorswift13': 1712, 'atl': 179, 'event': 617, 'starwarsday': 1638, 'anyways': 148, 'positive': 1367, '60': 60, 'supernatural': 1684, 'davidarchie': 491, 'based': 219, 'thx': 1752, 'shiny': 1537, 'case': 338, 'mr.': 1206, 'besides': 243, 'respect': 1451, 'demi': 508, 'gr8': 797, 'successful': 1670, 'jonasbrothers': 979, 'uploading': 1842, 'wassup': 1884, 'dannywood': 484, 'wolverine': 1935, 'nom': 1247, 'attics': 182, 'followfriday': 717, 'jackson': 965, '0': 29, '//ustre.am/2w5v': 28, 'doin': 535, 'luv': 1114, 'awesomeness': 192, 'prom': 1391, 'culture': 462, 'vinegar': 1861, 'howie_d': 907, 'sigjeans': 1557, 'kalebnation': 992}\n"
     ]
    }
   ],
   "source": [
    "# vocabulary\n",
    "cvectorizer.fit(tweets[\"Text\"])\n",
    "print(\"Unique words: \", cvectorizer.vocabulary_)"
   ]
  },
  {
   "cell_type": "code",
   "execution_count": 49,
   "id": "887163ae",
   "metadata": {},
   "outputs": [
    {
     "data": {
      "text/plain": [
       "array([[1, 0, 0, ..., 0, 0, 0],\n",
       "       [0, 0, 0, ..., 0, 0, 0],\n",
       "       [0, 0, 0, ..., 0, 0, 0],\n",
       "       ...,\n",
       "       [1, 0, 0, ..., 0, 0, 0],\n",
       "       [4, 0, 0, ..., 0, 0, 0],\n",
       "       [2, 0, 0, ..., 0, 0, 0]])"
      ]
     },
     "execution_count": 49,
     "metadata": {},
     "output_type": "execute_result"
    }
   ],
   "source": [
    "df_count_X = cvectorizer.transform(tweets[\"Text\"]).toarray()\n",
    "df_count_X"
   ]
  },
  {
   "cell_type": "code",
   "execution_count": 25,
   "id": "95719419",
   "metadata": {},
   "outputs": [],
   "source": [
    "df_train_count_X, df_test_count_X, df_train_count_Y, df_test_count_Y = train_test_split(df_count_X, df_count_Y, test_size= .2, random_state= 200)\n"
   ]
  },
  {
   "cell_type": "markdown",
   "id": "587ee54f",
   "metadata": {},
   "source": [
    "## TF-IDF Vectorizer"
   ]
  },
  {
   "cell_type": "code",
   "execution_count": 27,
   "id": "ea61c224",
   "metadata": {},
   "outputs": [],
   "source": [
    "tfidf = TfidfVectorizer(sublinear_tf=True, analyzer='word', max_features=2000,tokenizer=word_tokenize)"
   ]
  },
  {
   "cell_type": "code",
   "execution_count": 28,
   "id": "7c511540",
   "metadata": {},
   "outputs": [
    {
     "data": {
      "text/plain": [
       "(10000,)"
      ]
     },
     "execution_count": 28,
     "metadata": {},
     "output_type": "execute_result"
    }
   ],
   "source": [
    "df_tfidf_Y = np.array(tweets['Polarity'])\n",
    "df_tfidf_Y.shape"
   ]
  },
  {
   "cell_type": "code",
   "execution_count": 29,
   "id": "902e23e4",
   "metadata": {},
   "outputs": [
    {
     "name": "stdout",
     "output_type": "stream",
     "text": [
      "Unique words:  {'is': 941, 'upset': 1831, 'that': 1710, 'he': 830, 'ca': 319, \"n't\": 1201, 'update': 1825, 'his': 860, 'facebook': 630, 'by': 316, 'it': 945, '...': 22, 'and': 131, 'might': 1141, 'cry': 450, 'as': 166, 'a': 70, 'result': 1438, 'school': 1481, 'today': 1751, 'also': 122, '.': 20, 'blah': 260, '!': 0, '@': 65, 'i': 906, 'many': 1114, 'times': 1744, 'for': 704, 'the': 1712, 'ball': 209, 'managed': 1112, 'to': 1749, 'save': 1473, '50': 53, '%': 3, 'rest': 1437, 'go': 760, 'out': 1286, 'of': 1247, 'my': 1197, 'whole': 1909, 'body': 268, 'feels': 658, 'itchy': 948, 'like': 1051, 'its': 949, 'on': 1262, 'fire': 681, 'no': 1227, ',': 17, \"'s\": 11, 'not': 1234, 'at': 176, 'all': 112, \"'m\": 9, 'mad': 1101, 'why': 1911, 'am': 125, 'here': 850, '?': 64, 'because': 231, 'see': 1490, 'you': 1985, 'over': 1289, 'there': 1717, 'need': 1212, 'hug': 894, 'hey': 853, 'long': 1073, 'time': 1743, 'yes': 1981, '..': 21, 'bit': 257, 'only': 1268, 'lol': 1070, 'fine': 676, 'thanks': 1708, 'how': 888, 'nope': 1231, 'they': 1720, 'did': 501, 'have': 825, 'que': 1392, 'me': 1123, 'spring': 1605, 'break': 288, 'in': 920, 'city': 377, 'snowing': 1568, 'just': 977, 'could': 430, 'bear': 227, 'watch': 1877, 'thought': 1732, 'loss': 1082, 'was': 1871, 'idk': 911, 'either': 576, 'never': 1217, 'talk': 1681, 'anymore': 140, 'would': 1954, \"'ve\": 12, 'been': 236, 'first': 682, 'but': 312, 'really': 1417, 'though': 1731, 'wish': 1921, 'got': 776, 'with': 1925, 'miss': 1154, 'premiere': 1371, \"'\": 5, 'death': 485, 'will': 1914, 'hurt': 902, 'film': 670, 'cut': 456, 'now': 1240, 'about': 72, 'taxes': 1686, 'ahh': 102, 'ive': 951, 'always': 124, 'wanted': 1867, 'love': 1086, 'oh': 1254, 'dear': 484, 'were': 1898, 'drinking': 541, 'most': 1176, 'day': 478, 'so': 1569, 'get': 743, 'much': 1192, 'done': 524, 'one': 1264, 'friend': 720, 'called': 325, 'asked': 170, 'meet': 1127, 'her': 849, '*': 15, 'sigh': 1537, 'cake': 321, 'this': 1727, 'week': 1891, 'going': 764, 'had': 801, 'class': 378, '8': 59, 'tomorrow': 1757, 'hate': 822, 'when': 1903, 'call': 324, 'wake': 1860, 'people': 1320, 'up': 1824, 'myself': 1198, 'sleep': 1555, 'after': 92, 'watching': 1880, 'im': 914, 'sad': 1461, '....': 23, 'ok': 1257, 'wo': 1928, 'do': 514, 'again': 94, 'almost': 116, 'track': 1771, 'gets': 744, 'depressed': 495, 'every': 603, 'account': 78, 'aim': 105, 'make': 1106, 'new': 1218, 'want': 1866, 'gear': 740, 'ride': 1444, 'may': 1121, 'b': 196, 'sleeping': 1556, 'an': 130, 'option': 1275, 'morning': 1175, 'work': 1943, 'afternoon': 93, 'awe': 188, 'too': 1761, '1': 28, 'eyes': 626, 'night': 1225, 'sick': 1535, 'spent': 1602, 'hour': 885, 'sitting': 1552, 'shower': 1531, 'cause': 344, 'stand': 1608, 'back': 202, 'bed': 233, 'ill': 913, 'tell': 1694, 'ya': 1971, 'story': 1632, 'later': 1020, 'good': 767, 'be': 225, 'three': 1733, 'more': 1172, 'hours': 886, 'sorry': 1590, 'came': 328, '(': 13, ')': 14, 'http': 892, ':': 61, 'depressing': 496, 'think': 1723, 'even': 599, 'know': 1002, 'kids': 989, 'gym': 799, 'or': 1276, 'then': 1715, 'another': 136, 'gon': 765, 'na': 1202, 'fly': 692, 'girlfriend': 752, 'feel': 655, 'getting': 746, 'study': 1642, 'exam': 611, 'reason': 1418, 'guitar': 794, 'who': 1908, 'has': 820, 'enough': 591, 'heart': 839, 'feeling': 657, 'wan': 1865, 'still': 1626, 'jonathanrknight': 968, 'awww': 193, 'soo': 1583, 'finally': 672, 'missed': 1155, 'falling': 637, 'asleep': 172, 'heard': 837, 'tracy': 1772, 'girl': 751, 'being': 241, 'found': 710, 'family': 639, 'yay': 1974, 'happy': 816, 'your': 1987, 'job': 958, 'means': 1125, 'less': 1041, 'checked': 359, 'looks': 1079, 'happening': 814, 'are': 156, 'ppl': 1367, 'having': 827, 'w/': 1856, 'man': 1111, 'top': 1764, 'wear': 1884, 'meeting': 1128, 'burnt': 308, 'breaking': 290, 'tea': 1689, 'before': 238, 'plan': 1342, 'massive': 1117, 'broken': 298, 'promise': 1382, 'via': 1845, 'waiting': 1859, 'we': 1883, 'wow': 1955, 'tons': 1760, 'replies': 1431, 'from': 722, 'can': 331, 'friends': 721, 'tweets': 1801, \"'re\": 10, 'feed': 653, 'lot': 1084, 'our': 1285, 'chicken': 366, 'taking': 1680, 'put': 1390, 'vacation': 1840, 'photos': 1327, 'online': 1267, 'few': 664, 'ago': 97, 'pc': 1317, 'crashed': 442, 'forget': 706, 'name': 1205, 'site': 1550, 'sure': 1663, 'what': 1900, 'dont': 526, 'away': 187, 'company': 404, 'andy': 132, 'happens': 815, 'show': 1529, 'ta': 1676, 'say': 1475, \"'d\": 6, 'shows': 1533, 'use': 1834, 'music': 1195, 'game': 735, 'ugh': 1811, 'where': 1904, 'u': 1810, 'move': 1183, 'already': 120, 'hmmm': 866, 'random': 1407, 'glad': 757, 'hear': 836, 'doing': 523, 'well': 1896, 'playing': 1349, 'leaving': 1036, 'life': 1049, 'cool': 423, 'sadly': 1462, 'gotten': 777, 'experience': 622, 'post': 1361, 'such': 1647, 'nice': 1222, 'bad': 204, 'rain': 1403, 'comes': 399, '5am': 54, 'around': 162, 'lost': 1083, 'pay': 1315, 'phone': 1325, 'bill': 254, 'lmao': 1067, 'aw': 184, 'mo': 1158, 'jobs': 959, 'money': 1166, 'hell': 844, 'min': 1146, '4': 49, 'f': 627, 'n': 1200, 'forever': 705, 'soon': 1584, 'agreed': 99, 'saw': 1474, 'haha': 802, 'dude': 549, 'look': 1075, 'em': 579, 'unless': 1822, 'someone': 1576, 'says': 1477, 'added': 86, 'terrible': 1698, 'pop': 1359, 'right': 1446, 'start': 1613, 'working': 1945, 'least': 1034, 'ugly': 1812, '.......': 26, 'black': 259, 'business': 310, 'shoes': 1521, 'lucky': 1094, 'run': 1458, 'into': 936, 'any': 138, 'cute': 457, 'girls': 753, 'smells': 1564, 'comments': 403, 'asap': 167, 'tonight': 1758, 'fml': 693, 'arms': 161, 'sore': 1589, 'tennis': 1697, 'saying': 1476, 'bye': 317, 'ur': 1832, 'those': 1730, 'shame': 1512, 'booked': 271, 'paid': 1297, 'mine': 1148, 'boo': 269, '#': 1, 'damn': 465, 'hates': 823, 'she': 1514, 'throat': 1734, 'worse': 1951, 'mama': 1110, 'tummy': 1788, 'hurts': 904, 'wonder': 1935, 'if': 912, 'anything': 142, 'stop': 1628, 'fat': 645, 'ones': 1265, 'babe': 199, 'fam': 638, 'thankfully': 1707, 'evil': 608, 'laugh': 1022, 'should': 1527, 'attention': 179, 'covered': 437, 'design': 497, 'wednesday': 1890, 'b-day': 197, '2': 38, 'poor': 1357, 'hills': 858, 'pray': 1368, 'please': 1350, 'ex': 609, 'babies': 200, '1st': 37, 'birthday': 256, 'party': 1310, 'headache': 832, 'hmm': 865, 'enjoy': 588, 'him': 859, 'problems': 1377, 'things': 1722, 'find': 674, 'little': 1062, 'puppy': 1388, 'since': 1543, 'easter': 565, 'able': 71, 'ohh': 1255, '.....': 24, 'actually': 84, 'won': 1934, 'follow': 696, 'nite': 1226, 'favorite': 648, 'lose': 1080, 'missing': 1157, 'california': 323, 'hope': 876, 'fast': 644, 'yesterday': 1982, 'pain': 1298, 'fail': 632, 'behind': 240, 'classes': 379, '&': 4, 'quot': 1398, ';': 62, 'house': 887, 'remember': 1427, 'leg': 1038, 'serious': 1503, 'their': 1713, 'laptop': 1014, 'mommy': 1162, 'training': 1775, 'misses': 1156, 'rather': 1408, 'send': 1498, 'messages': 1137, 'than': 1704, 'year': 1977, 'same': 1469, 'thing': 1721, 'laying': 1028, 'voice': 1853, 'sooo': 1586, 'killed': 991, 'off': 1248, 'kutner': 1005, 'them': 1714, 'sense': 1500, 'believe': 242, 'happened': 813, 'cuz': 458, 'yeah': 1976, 'chance': 350, 'cant': 333, 'hanging': 810, 'sing': 1544, 'sucks': 1650, 'aww': 192, 'beach': 226, 'w': 1855, 'pissed': 1336, 'radio': 1402, 'station': 1620, 'down': 532, 'head': 831, 'some': 1573, 'sounds': 1593, 'mention': 1133, 'crying': 451, 'made': 1102, 'late': 1018, 'glass': 758, 'big': 252, 'fan': 640, 'must': 1196, 'wait': 1858, 'something': 1577, 'else': 578, 'broke': 297, 'seems': 1493, 'longer': 1074, 'cold': 395, 'weather': 1886, 'take': 1677, 'turn': 1790, 'd': 459, 'incredible': 921, 'stuff': 1644, 'hoping': 879, 'notice': 1239, 'told': 1754, 'said': 1464, 'bedtime': 235, 'tired': 1748, 'imma': 916, 'try': 1785, 'hopefully': 877, 'snow': 1567, 'thank': 1705, 'letting': 1045, 'direct': 510, 'message': 1136, 'test': 1699, 'win': 1915, 'without': 1927, 'guess': 791, 'finish': 678, 'editing': 572, 'probably': 1375, 'happen': 812, '12': 32, 'pages': 1296, 'left': 1037, 'read': 1410, 'amp': 129, 'end': 583, 'easy': 566, 'books': 272, 'died': 504, 'mom': 1160, 'worried': 1949, 'better': 249, 'breakfast': 289, 'keep': 980, 'waking': 1861, 'lame': 1012, 'understand': 1818, 'heroes': 851, 'season': 1486, 'living': 1066, 'fun': 729, 'food': 702, 'free': 714, 'ate': 177, 'ass': 173, 'coke': 394, 'hard': 817, 'hot': 883, 'studying': 1643, 'star': 1610, '-': 18, 'apps': 154, 'sweet': 1668, 'although': 123, 'sent': 1501, 'picked': 1330, 'st': 1607, 'pretty': 1373, 'pick': 1329, 'way': 1882, 'until': 1823, '......': 25, 'alone': 117, 'mean': 1124, 'seriously': 1504, 'kinda': 994, 'chicago': 365, 'far': 643, 'stuck': 1639, 'awake': 185, 'middle': 1140, 'second': 1488, 'felt': 662, 'gosh': 774, 'page': 1295, 'sooooo': 1588, 'history': 861, 'crazy': 443, 'wind': 1916, '=': 63, 'currently': 454, 'acting': 83, 'weird': 1894, 'ho': 867, 'thinking': 1724, 'full': 728, 'songs': 1582, 'dvd': 554, 'cos': 425, 'deal': 483, 'website': 1888, 'through': 1735, 'other': 1281, 'tips': 1747, 'swear': 1667, 'losing': 1081, 'tweeps': 1795, 'realized': 1416, 'hiding': 855, 'staying': 1623, 'wasnt': 1873, 'live': 1063, 'chat': 356, 'car': 335, '3': 46, 'trip': 1781, 'soooo': 1587, 'check': 358, 'closed': 387, '10': 29, 'downloading': 534, 'album': 110, 'come': 398, 'these': 1719, 'days': 479, 'woke': 1929, 'early': 560, 'university': 1821, 'making': 1108, 'yet': 1983, 'boring': 275, 'lazy': 1029, 'ny': 1242, 'robluketic': 1450, 'french': 716, 'south': 1595, 'beautiful': 230, 'problem': 1376, 'block': 262, 'clock': 385, 'difficult': 508, 'fb': 650, 'guy': 797, 'dying': 555, 'next': 1220, '24': 42, 'woman': 1932, 'guys': 798, 'dog': 520, 'shit': 1519, '~': 1998, 'screwed': 1484, 'tonite': 1759, 'interview': 935, 'luck': 1093, 'choose': 373, 'help': 847, 'dead': 482, 'kill': 990, 'seen': 1494, 'till': 1742, 'hahaha': 804, 'hrs': 891, 'mind': 1147, 'boot': 273, 'goin': 763, 'library': 1047, 'does': 518, 'nap': 1206, 'kind': 993, 'bus': 309, 'ghost': 748, 'world': 1948, 'canada': 332, 'supposed': 1662, 'shop': 1523, 'movie': 1185, 'macbook': 1099, 'fell': 660, 'crash': 441, 'while': 1906, 'somebody': 1574, 'cat': 339, 'heat': 840, 'donniewahlberg': 525, 'looking': 1078, 'thats': 1711, 'fit': 684, 'pictures': 1334, 'ever': 602, 'tho': 1729, 'congrats': 413, 'totally': 1766, 'forgot': 707, 'amazing': 126, 'xxx': 1968, 'twitter': 1803, 'using': 1836, 'stupid': 1645, 'outside': 1287, 'o': 1244, 'kidding': 988, 'scared': 1478, 'stress': 1636, 'become': 232, 'very': 1843, 'us': 1833, 'news': 1219, 'trying': 1786, 'picture': 1333, 'upload': 1830, 'red': 1422, 'forward': 709, 'opening': 1273, 'dunno': 552, 'home': 872, 'town': 1770, 'pls': 1352, 'explain': 623, 'y': 1969, 'let': 1043, 'old': 1260, 'walk': 1862, 'hello': 846, '2009': 40, 'eating': 569, 'round': 1455, 'place': 1340, '2nd': 45, 'bathroom': 220, 'gay': 739, 'lt': 1092, 'lonely': 1072, '22': 41, 'female': 663, 'office': 1250, 'celebrate': 346, 'weekend': 1892, 'nothing': 1238, 'officially': 1252, 'wont': 1938, 'write': 1956, 'band': 211, 'lead': 1030, 'gt': 790, 'john': 961, 'play': 1346, 'fruit': 724, 'doctor': 516, 'bff': 251, 'shout': 1528, 'video': 1847, 'card': 336, 'naked': 1204, 'confused': 412, 'jk': 957, 'sort': 1591, 'iphone': 938, 'form': 708, 'past': 1314, 'change': 351, 'wat': 1876, 'gah': 734, 'ring': 1447, 'download': 533, 'internet': 934, 'fuck': 725, 'baby': 201, 'fucked': 726, 'uni': 1820, 'april': 155, 'july': 973, 'comin': 400, 'jealous': 955, 'face': 629, 'fucking': 727, 'ooh': 1270, 'iï¿½m': 952, 'excited': 615, 'youtube': 1991, 'bank': 212, 'holiday': 869, 'agree': 98, 'theres': 1718, 'often': 1253, 'hilarious': 857, 'went': 1897, 'link': 1057, 'neither': 1215, 'tweeted': 1798, 'nearly': 1211, 'posted': 1362, 'goes': 762, 'needs': 1214, 'son': 1580, 'stay': 1621, 'client': 384, 'boss': 277, 'english': 587, 'text': 1701, '--': 19, 'games': 736, 'related': 1424, 'figure': 667, '/': 27, 'hotel': 884, 'etc': 598, 'bc': 223, 'slept': 1558, 'afraid': 91, 'code': 392, 'gone': 766, 'needed': 1213, 'yup': 1996, 'r': 1400, 'worst': 1952, 'tough': 1768, 'list': 1059, 'bar': 214, 'arrived': 163, 'dancing': 468, 'art': 164, 'wants': 1868, 'ah': 100, 'bet': 247, 'basketball': 218, 'management': 1113, 'assignment': 174, 'hopes': 878, 'doesnt': 519, 'trouble': 1782, 'worked': 1944, '5': 52, 'argh': 159, 'sleepy': 1557, 'wide': 1912, 'sold': 1572, 'watched': 1878, 'dreading': 535, 'according': 77, 'bro': 296, 'fight': 666, 'sandra': 1470, 'cantu': 334, 'everybody': 604, 'two': 1807, 'seeing': 1491, 'everyday': 605, 'germany': 742, 'closing': 389, 'cheese': 363, 'idea': 909, 'children': 367, 'seem': 1492, 'wishing': 1923, 'walking': 1863, 'energy': 585, 'awesome': 189, 'dang': 469, 'knew': 1000, 'earlier': 559, 'planned': 1343, 'writing': 1957, 'paper': 1304, 'course': 435, 'access': 76, 'pack': 1294, 'unfortunately': 1819, 'weeks': 1893, 'busy': 311, 'latest': 1021, 'project': 1380, 'ha': 800, 'sun': 1654, 'harder': 818, 'during': 553, 'tried': 1780, 'state': 1618, 'omg': 1261, 'mouth': 1182, 'annoyed': 134, 'easily': 563, 'videos': 1848, 'spending': 1601, 'leave': 1035, 'herself': 852, 'years': 1978, 'worth': 1953, 'alot': 119, '_': 68, 'finishing': 680, 'possible': 1360, 'ache': 81, 'last': 1016, 'miserable': 1153, 'hang': 809, 'dumb': 551, 'sat': 1471, 'bay': 221, 'hubby': 893, 'thinks': 1725, 'important': 917, 'trek': 1779, 'matter': 1120, 'easier': 562, 'hair': 805, 'color': 397, 'within': 1926, 'coming': 401, 'suppose': 1661, 'wtf': 1960, 'maybe': 1122, 'couple': 434, 'hon': 874, 'productive': 1378, 'worry': 1950, 'learned': 1032, 'words': 1942, 'movies': 1186, 'rip': 1448, 'homework': 873, 'taken': 1678, 'scratch': 1482, 'half': 806, 'cookies': 421, 'listening': 1061, 'meetings': 1129, 'email': 580, 'dark': 471, 'reply': 1432, 'ages': 96, 'men': 1132, 'both': 279, 'nick': 1223, 'jon': 965, 'net': 1216, 'seconds': 1489, 'running': 1459, 'swimming': 1670, 'sucked': 1649, 'die': 503, 'info': 925, 'open': 1272, 'mail': 1103, 'um': 1815, 'yucky': 1993, 'quick': 1394, 'song': 1581, 'myspace': 1199, 'dad': 461, 'started': 1614, 'boyfriend': 283, 'complete': 406, 'works': 1947, 'monday': 1164, 'episode': 593, 'keeping': 981, 'fingers': 677, 'crossed': 448, 'eat': 567, 'vegas': 1841, 'hungry': 899, 'tweetdeck': 1797, 'once': 1263, 'btw': 302, 'funny': 731, 'freezing': 715, 'wondering': 1937, 'strong': 1637, 'hold': 868, 'drive': 542, 'anyone': 141, 'pants': 1303, 'street': 1635, 'shoe': 1520, 'changed': 352, 'gave': 738, 'bored': 274, 'eh': 575, 'definitely': 491, 'copy': 424, 'studio': 1641, 'silly': 1540, 'anyway': 143, 'bright': 292, 'side': 1536, 'fish': 683, 'apparently': 149, 'taste': 1684, 'everyone': 606, 'airport': 108, 'sell': 1496, 'bars': 216, 'comment': 402, 'stayed': 1622, 'strange': 1634, 'legal': 1039, 'saturday': 1472, 'along': 118, 'green': 784, 'number': 1241, 'each': 557, 'yea': 1975, 'quiet': 1395, 'nobody': 1228, 'cooking': 422, 'okay': 1259, 'talked': 1682, 'nature': 1208, 'fair': 634, '100': 30, 'tweet': 1796, 'everything': 607, 'chocolate': 371, 'keeps': 982, 'dreams': 537, 'wall': 1864, \"'ll\": 8, 'sister': 1548, 'uh': 1813, 'god': 761, 'ruined': 1457, 'belly': 243, 'button': 313, 'makes': 1107, 'cheap': 357, 'buying': 315, 'fall': 636, 'nose': 1233, '+': 16, 'nasty': 1207, 'budget': 303, 'due': 550, 'apple': 150, 'dammit': 464, 'stopped': 1629, 'quiz': 1397, 'others': 1282, 'prayers': 1369, 'real': 1413, 'twilight': 1802, 'jst': 971, 'ddlovato': 480, 'book': 270, 'boston': 278, 'public': 1387, 'however': 889, 'heading': 834, 'install': 930, 'bloody': 266, 'garage': 737, 'park': 1307, 'reading': 1411, 'struggling': 1638, 'continue': 418, 'flowers': 690, 'camera': 329, 'liking': 1054, 'used': 1835, 'pity': 1338, 'blocked': 263, 'china': 370, 'best': 246, 'which': 1905, 'daddy': 462, 'brother': 299, 'considering': 415, 'grr': 789, 'date': 473, '40': 50, 'cats': 342, 'crap': 439, 'horrible': 880, 'rock': 1451, 'tuesday': 1787, 'ap': 146, 'cook': 419, 'took': 1762, 'ebay': 570, 'takes': 1679, 'premier': 1370, '$': 2, 'starts': 1616, 'straight': 1633, 'sound': 1592, 'fav': 647, 'click': 383, 'states': 1619, 'turned': 1791, 'hd': 829, 'support': 1660, 'app': 148, 'store': 1630, 'allergic': 113, 'thursday': 1737, 'tree': 1778, 'small': 1561, 'scary': 1479, 'finding': 675, 'ready': 1412, 'bread': 287, 'toast': 1750, 'calling': 326, 'computer': 408, 'listen': 1060, 'xbox': 1962, 'meant': 1126, 'camp': 330, 'friday': 718, 'exactly': 610, '6': 55, 'dress': 538, 'shopping': 1524, 'mac': 1098, 'lasts': 1017, 'mum': 1193, 'gettin': 745, 'somewhere': 1579, 'close': 386, 'cried': 446, 'absolutely': 73, 'true': 1783, 'heidimontag': 843, 'cam': 327, 'beat': 228, 'hun': 898, 'difference': 506, 'wearing': 1885, 'isnt': 943, 'word': 1941, 'dance': 467, 'team': 1691, 'anywhere': 145, 'goodnight': 771, 'tweeters': 1799, 'episodes': 594, 'bunch': 306, 'uk': 1814, 'moment': 1161, 'learning': 1033, 'replied': 1430, 'catch': 340, 'thru': 1736, 'nd': 1209, 'dry': 548, 'set': 1507, 'feet': 659, '[': 66, ']': 67, 'loves': 1089, 'moms': 1163, 'mood': 1170, '15': 34, 'minutes': 1152, 'lots': 1085, 'disappointed': 511, 'mostly': 1177, 'ending': 584, 'folks': 695, 'yawn': 1973, 'horses': 881, 'gossip': 775, 'repeat': 1428, 'tax': 1685, 'return': 1439, 'dream': 536, 'cream': 444, 'eye': 625, 'different': 507, 'wet': 1899, 'umm': 1816, 'plus': 1353, 'flu': 691, 'outta': 1288, 'water': 1881, 'minute': 1151, 'earthquake': 561, 'italy': 947, 'server': 1505, 'trash': 1776, 'empty': 582, 'ipod': 939, 'buy': 314, 'coz': 438, 'gift': 749, 'cell': 347, 'finished': 679, 'stephenkruiser': 1625, 'ran': 1406, 'wrote': 1959, 'moony394': 1171, 'stomach': 1627, 'counting': 432, 'visit': 1851, 'care': 337, '13': 33, 'room': 1454, 'itunes': 950, 'docs': 515, 'pics': 1332, 'step': 1624, 'knows': 1004, 'loved': 1087, 'hugs': 896, 'white': 1907, 'vs': 1854, 'bah': 208, 'official': 1251, 'month': 1168, 'knowing': 1003, 'ahead': 101, 'chill': 368, 'egg': 573, 'exist': 620, 'jus': 976, 'wishes': 1922, 'tour': 1769, 'great': 783, 'v': 1839, 'abt': 74, 'point': 1355, 'guessing': 792, 'train': 1774, 'four': 711, 'arent': 158, 'delicious': 492, 'paris': 1306, 'milk': 1145, 'drink': 540, 'finals': 673, 'none': 1230, 'custom': 455, 'square': 1606, 'background': 203, 'la': 1007, 'talking': 1683, 'plans': 1345, 'ordered': 1279, 'instead': 931, 'hit': 862, 'nah': 1203, 'havnt': 828, 'awwwww': 195, 'feelin': 656, 'part': 1308, 'warm': 1869, 'gross': 786, 'follower': 698, 'aint': 106, 'nothin': 1237, 'twitters': 1806, 'vid': 1846, 'single': 1546, 'gives': 756, 'invite': 937, 'healthy': 835, \"'em\": 7, 'hella': 845, 'clothes': 390, 'double': 528, 'fans': 641, 'suck': 1648, 'wrong': 1958, 'decided': 487, 'boy': 282, 'sydney': 1672, 'joke': 964, 'except': 614, 'spell': 1599, 'yr': 1992, 'spend': 1600, 'fab': 628, 'insomnia': 928, 'screen': 1483, 'traffic': 1773, 'cuddle': 452, 'software': 1571, 'updates': 1827, 'telling': 1695, 'diet': 505, 'pancakes': 1301, 'hating': 824, 'google': 772, 'speak': 1597, 'clean': 381, 'moving': 1187, 'share': 1513, 'caught': 343, 'winter': 1920, 'desk': 498, 'ear': 558, 'infection': 924, 'sunday': 1655, 'yo': 1984, 'alarm': 109, 'fed': 652, 'ladies': 1009, 'goodness': 770, 'travel': 1777, 'france': 712, 'miles': 1142, 'review': 1440, 'cup': 453, 'coffee': 393, 'alcohol': 111, 'dentist': 494, 'drunk': 547, 'realised': 1414, 'huge': 895, 'looked': 1076, 'crappy': 440, 'law': 1026, '18': 36, 'driving': 544, 'beer': 237, 'under': 1817, 'kitchen': 998, 'tests': 1700, 'failed': 633, 'followed': 697, 'anybody': 139, 'afford': 90, 'pet': 1324, '33': 48, 'door': 527, 'large': 1015, 'usually': 1838, 'character': 355, 'austin': 181, 'lesson': 1042, 'ten': 1696, 'mins': 1150, 'shut': 1534, 'essay': 597, 'usual': 1837, 'played': 1347, 'hand': 807, 'ouch': 1284, 'sites': 1551, 'together': 1753, 'checking': 360, 'ideas': 910, 'own': 1291, 'ice': 907, 'ma': 1097, 'grass': 781, 'bike': 253, 'loads': 1069, 'dropped': 546, 'london': 1071, 'raining': 1404, 'completely': 407, 'contacts': 417, 'starting': 1615, 'lately': 1019, 'contact': 416, 'america': 127, 'lovely': 1088, 'order': 1278, 'posts': 1364, 'properly': 1384, 'italian': 946, 'fact': 631, 'between': 250, 'quite': 1396, 'fake': 635, 'cooked': 420, 'exams': 612, 'suddenly': 1651, 'journey': 969, 'lookin': 1077, 'darn': 472, 'allergies': 114, 'area': 157, 'morn': 1173, 'legs': 1040, 'hi': 854, 'l': 1006, 'fixed': 687, 'king': 995, 'kitty': 999, 'interesting': 933, 'brilliant': 293, 'bring': 294, 'record': 1420, 'surprise': 1664, 'kal_penn': 979, 'helping': 848, 'seat': 1487, 'mobile': 1159, 'waste': 1875, 'shoot': 1522, 'turning': 1792, 'line': 1056, 'didnt': 502, 'decent': 486, 'grateful': 782, 'ohhh': 1256, 'ps': 1386, 'somehow': 1575, 'cruise': 449, 'group': 787, 'wit': 1924, 'painful': 1299, 'annoying': 135, 'def': 489, 'kno': 1001, 'mileycyrus': 1144, '30': 47, 'learn': 1031, 'innocent': 926, 'selling': 1497, 'web': 1887, 'ben': 244, 'total': 1765, 'cost': 426, 'kelly': 983, 'lay': 1027, 'yours': 1989, 'application': 151, 'killing': 992, 'glasses': 759, 'arm': 160, 'slow': 1559, '20': 39, 'ask': 169, 'blood': 265, 'sis': 1547, 'skype': 1554, 'laughing': 1023, 'pitch': 1337, 'coughing': 429, 'turns': 1793, 'hurting': 903, 'holidays': 870, 'woot': 1940, 'hearing': 838, '7': 58, 'notes': 1236, 'followers': 699, 'release': 1426, 'e': 556, '25': 43, 'classic': 380, 'bags': 207, 'edit': 571, 'answer': 137, 'bt': 301, 'launch': 1024, 'foot': 703, 'smart': 1562, 'given': 755, 'theory': 1716, 'woken': 1930, 'main': 1104, 'road': 1449, 'hannah': 811, 'alright': 121, 'planning': 1344, 'evening': 600, 'joined': 963, 'rainy': 1405, 'b4': 198, 'til': 1741, 'summer': 1653, 'give': 754, 'spam': 1596, 'extra': 624, 'hospital': 882, 'ellen': 577, 'da': 460, 'fix': 686, 'tiny': 1745, 'appointment': 152, 'addicted': 87, 'dressed': 539, 'self': 1495, 'slowly': 1560, 'focus': 694, 'note': 1235, 'machine': 1100, 'closer': 388, 'exciting': 616, 'pass': 1311, 'parents': 1305, 'growing': 788, 'p': 1293, 'sync': 1673, 'person': 1323, 'pic': 1328, 'shirt': 1518, 'inside': 927, 'bag': 206, 'bio': 255, 'tv': 1794, 'mother': 1178, 'cough': 428, 'fantastic': 642, 'gutted': 796, 'concert': 410, 'expensive': 621, 'exercise': 618, 'paying': 1316, 'kisses': 997, 'excellent': 613, 'burn': 307, 'motivation': 1180, 'coast': 391, 'badly': 205, 'australia': 182, 'driver': 543, 'christian': 374, 'xoxo': 1965, 'doubt': 529, 'heh': 841, 'fellow': 661, 'special': 1598, 'bday': 224, 'id': 908, 'whats': 1902, 's': 1460, 'normal': 1232, 'tweeting': 1800, 'tickets': 1740, 'tom': 1755, 'awful': 191, 'imagine': 915, 'cousin': 436, 'following': 701, 'bought': 280, '6am': 57, 'thankful': 1706, 'x': 1961, 'holy': 871, 'original': 1280, 'revision': 1441, 'final': 671, 'mark': 1116, 'passed': 1312, 't': 1675, 'c': 318, 'm': 1096, 'ng': 1221, 'moved': 1184, 'oops': 1271, 'cd': 345, '2day': 44, 'high': 856, 'dinner': 509, 'dm': 513, 'smile': 1565, 'brings': 295, 'memories': 1131, 'deep': 488, 'ticket': 1739, 'hm': 864, 'challenge': 349, 'david': 476, 'question': 1393, 'hehe': 842, 'computers': 409, 'upgrade': 1829, 'super': 1658, 'fault': 646, 'gig': 750, 'ace': 80, 'simple': 1541, 'kick': 985, 'blue': 267, 're': 1409, 'havent': 826, 'hoo': 875, 'light': 1050, 'headed': 833, 'major': 1105, 'th': 1702, 'service': 1506, 'windows': 1918, 'issues': 944, 'months': 1169, 'peace': 1318, 'mornin': 1174, 'lie': 1048, 'likes': 1053, 'beats': 229, 'liked': 1052, 'situation': 1553, 'angry': 133, 'search': 1485, 'key': 984, 'shall': 1511, 'enjoying': 590, '`': 69, 'soup': 1594, 'lil': 1055, 'goodbye': 768, 'showed': 1530, 'add': 85, 'favourite': 649, 'race': 1401, 'especially': 596, 'joy': 970, 'beginning': 239, 'brain': 286, 'lady': 1010, 'appreciate': 153, 'mate': 1118, 'rubbish': 1456, 'obviously': 1246, 'near': 1210, 'ow': 1290, 'bitch': 258, 'shift': 1515, 'dougiemcfly': 531, 'msg': 1190, '11': 31, 'shot': 1526, 'tip': 1746, 'eaten': 568, 'lunch': 1095, 'oprah': 1274, 'husband': 905, 'whom': 1910, 'wonderful': 1936, 'creepy': 445, 'truth': 1784, 'lab': 1008, 'report': 1433, 'msn': 1191, 'woo': 1939, 'june': 975, 'sux': 1666, 'places': 1341, 'fresh': 717, 'shining': 1516, 'singing': 1545, 'sign': 1539, 'age': 95, 'air': 107, 'blog': 264, 'low': 1091, 'goodmorning': 769, 'poorly': 1358, 'melbourne': 1130, 'mondays': 1165, 'updating': 1828, 'profile': 1379, 'ï¿½': 1999, 'tommcfly': 1756, 'sims': 1542, 'youre': 1988, 'figured': 668, 'east': 564, 'banana': 210, 'hands': 808, 'math': 1119, 'power': 1366, 'rid': 1443, 'enjoyed': 589, 'future': 732, 'safe': 1463, 'disney': 512, 'channel': 354, 'third': 1726, 'guilty': 793, 'cheer': 361, 'indoors': 923, 'bout': 281, 'short': 1525, 'awwww': 194, 'yourself': 1990, 'mess': 1135, 'ai': 104, 'entire': 592, 'accounts': 79, 'twitterberry': 1804, 'window': 1917, 'chillin': 369, 'sugar': 1652, 'salt': 1468, 'fried': 719, 'sometimes': 1578, 'sales': 1467, 'potential': 1365, 'laundry': 1025, 'proud': 1385, 'messed': 1138, '9': 60, 'funeral': 730, 'oz': 1292, 'realize': 1415, 'sooner': 1585, 'gorgeous': 773, 'roll': 1453, 'smoke': 1566, 'impossible': 918, 'files': 669, 'five': 685, 'hurry': 901, 'tune': 1789, 'wedding': 1889, 'regular': 1423, 'schofe': 1480, 'watchin': 1879, 'pizza': 1339, '17': 35, 'level': 1046, 'updated': 1826, 'sale': 1466, 'christmas': 375, 'banned': 213, 'teeth': 1693, 'price': 1374, 'obama': 1245, 'sunshine': 1657, 'yep': 1980, 'sf': 1509, 'bath': 219, 'todays': 1752, 'rocks': 1452, 'sunny': 1656, 'lets': 1044, 'wash': 1872, 'flight': 689, 'government': 778, 'assignments': 175, 'teacher': 1690, 'graduation': 780, 'ahhh': 103, 'txt': 1808, 'allowed': 115, 'yum': 1994, 'xd': 1963, 'lived': 1064, 'hat': 821, 'xx': 1967, 'grey': 785, 'pink': 1335, 'bedroom': 234, 'crisps': 447, 'standing': 1609, 'atm': 178, 'k': 978, 'choice': 372, 'miley': 1143, 'stars': 1612, 'huh': 897, 'fear': 651, 'eminem': 581, 'error': 595, 'yall': 1972, 'winning': 1919, 'spotify': 1604, 'spoke': 1603, 'version': 1842, 'nyc': 1243, 'thnx': 1728, 'orange': 1277, 'starbucks': 1611, 'college': 396, 'sushi': 1665, 'photo': 1326, 'xp': 1966, 'island': 942, 'system': 1674, 'de': 481, 'pool': 1356, 'beta': 248, 'quote': 1399, 'freaking': 713, 'ff': 665, 'reports': 1434, 'available': 183, 'cheers': 362, 'country': 433, 'wife': 1913, 'gunna': 795, 'blessed': 261, 'article': 165, 'bugger': 305, 'onto': 1269, 'load': 1068, 'jonas': 966, 'brothers': 300, 'count': 431, 'ac': 75, 'gfalcone601': 747, 'picking': 1331, 'podcast': 1354, 'doctors': 517, 'vet': 1844, 'loving': 1090, 'daughter': 474, 'across': 82, 'joe': 960, 'type': 1809, 'di': 500, 'flat': 688, 'boys': 284, 'competition': 405, 'jeans': 956, 'inspiration': 929, 'dogs': 521, 'church': 376, 'dan': 466, 'ireland': 940, 'research': 1436, 'panic': 1302, 'breath': 291, 'daily': 463, 'bug': 304, 'ashley': 168, 'german': 741, 'mums': 1194, 'vista': 1852, 'tooth': 1763, 'feedback': 654, 'perfect': 1321, 'changing': 353, 'mr': 1188, 'yummy': 1995, 'otherwise': 1283, 'twittering': 1805, 'links': 1058, 'view': 1849, 'kid': 987, 'welcome': 1895, 'offer': 1249, 'jump': 974, 'thanx': 1709, 'putting': 1391, 'dave': 475, 'xo': 1964, 'excuse': 617, 'exhausted': 619, 'lake': 1011, 'england': 586, 'touch': 1767, 'front': 723, 'congratulations': 414, 'smell': 1563, 'request': 1435, 'replace': 1429, 'american': 128, 'dougie': 530, 'sit': 1549, 'cleaning': 382, 'swim': 1669, 'impressed': 919, 'social': 1570, 'mountains': 1181, 'born': 276, 'relaxing': 1425, 'mall': 1109, 'indeed': 922, 'recently': 1419, 'cafe': 320, 'paint': 1300, 'riding': 1445, 'conference': 411, 'player': 1348, 'interested': 932, 'peeps': 1319, 'certainly': 348, 'purple': 1389, 'nicole': 1224, 'barely': 215, 'catching': 341, 'adding': 88, 'kicking': 986, '|': 1997, 'bradiewebbstack': 285, 'technical': 1692, 'taylor': 1687, 'w/o': 1857, 'yellow': 1979, \"y'all\": 1970, 'young': 1986, 'despite': 499, 'met': 1139, 'passes': 1313, 'sending': 1499, 'marathon': 1115, 'mothers': 1179, '4th': 51, 'land': 1013, 'definately': 490, 'onion': 1266, 'hardly': 819, 'showing': 1532, 'sexy': 1508, 'swine': 1671, 'asking': 171, 'juice': 972, 'whatever': 1901, 'proper': 1383, 'present': 1372, 'hunting': 900, 'drop': 545, 'women': 1933, 'storm': 1631, 'hahah': 803, 'pleasure': 1351, 'performance': 1322, 'shake': 1510, 'workout': 1946, 'richard': 1442, 'bbq': 222, 'apartment': 147, 'mini': 1149, 'awards': 186, 'chem': 364, 'tha': 1703, 'ok.': 1258, 'eggs': 574, 'join': 962, 'posting': 1363, 'salad': 1465, 'hiya': 863, 'cakes': 322, 'parties': 1309, 'student': 1640, 'james': 954, 'couch': 427, 'lives': 1065, 'series': 1502, 'mentioned': 1134, 'g': 733, 'kiss': 996, 'recovering': 1421, 'wars': 1870, 'montana': 1167, 'adorable': 89, 'taylorswift13': 1688, 'event': 601, 'starwarsday': 1617, 'anyways': 144, '60': 56, 'supernatural': 1659, 'davidarchie': 477, 'based': 217, 'thx': 1738, 'shiny': 1517, 'case': 338, 'mr.': 1189, 'besides': 245, 'demi': 493, 'gr8': 779, 'successful': 1646, 'jonasbrothers': 967, 'wassup': 1874, 'dannywood': 470, 'wolverine': 1931, 'nom': 1229, 'attics': 180, 'followfriday': 700, 'jackson': 953, 'doin': 522, 'awesomeness': 190, 'prom': 1381, 'vinegar': 1850, 'howie_d': 890, 'sigjeans': 1538}\n"
     ]
    }
   ],
   "source": [
    "# vocabulary\n",
    "tfidf.fit(tweets[\"Text\"])\n",
    "print(\"Unique words: \", tfidf.vocabulary_)"
   ]
  },
  {
   "cell_type": "code",
   "execution_count": 30,
   "id": "9dca1d4f",
   "metadata": {},
   "outputs": [
    {
     "data": {
      "text/plain": [
       "(10000, 2000)"
      ]
     },
     "execution_count": 30,
     "metadata": {},
     "output_type": "execute_result"
    }
   ],
   "source": [
    "df_tfidf_X = tfidf.transform(tweets[\"Text\"]).toarray()\n",
    "df_tfidf_X.shape\n",
    "# should be (10000, 2000)"
   ]
  },
  {
   "cell_type": "code",
   "execution_count": 31,
   "id": "06baabf5",
   "metadata": {},
   "outputs": [],
   "source": [
    "df_train_tfidf_X, df_test_tfidf_X, df_train_tfidf_Y, df_test_tfidf_Y = train_test_split(df_tfidf_X, df_tfidf_Y, test_size= .2, random_state= 200)\n"
   ]
  },
  {
   "cell_type": "markdown",
   "id": "4f123bec",
   "metadata": {},
   "source": [
    "## PCA & K-means w/ BoW"
   ]
  },
  {
   "cell_type": "code",
   "execution_count": 32,
   "id": "5e24ee17",
   "metadata": {},
   "outputs": [],
   "source": [
    "#scale data\n",
    "scaler = StandardScaler()\n",
    "df_count_X_scale = scaler.fit_transform(df_count_X)\n",
    "# df_test_count_X_scale = scaler.fit_transform(df_test_count_X)"
   ]
  },
  {
   "cell_type": "code",
   "execution_count": 33,
   "id": "be047b6f",
   "metadata": {},
   "outputs": [],
   "source": [
    "pca = PCA(2)\n",
    "pca_count = pca.fit_transform(df_count_X_scale)"
   ]
  },
  {
   "cell_type": "code",
   "execution_count": 34,
   "id": "e14f40a8",
   "metadata": {},
   "outputs": [],
   "source": [
    "kmeans = KMeans(n_clusters=2, max_iter=400, algorithm = 'auto')\n",
    "# fitting kmeans model\n",
    "fitted_count = kmeans.fit(pca_count)\n",
    "\n",
    "#predicting clusters\n",
    "prediction_count = kmeans.predict(pca_count)"
   ]
  },
  {
   "cell_type": "code",
   "execution_count": 35,
   "id": "a62a9504",
   "metadata": {},
   "outputs": [
    {
     "data": {
      "text/plain": [
       "(10000,)"
      ]
     },
     "execution_count": 35,
     "metadata": {},
     "output_type": "execute_result"
    }
   ],
   "source": [
    "prediction_count.shape"
   ]
  },
  {
   "cell_type": "code",
   "execution_count": 36,
   "id": "720bc767",
   "metadata": {},
   "outputs": [
    {
     "name": "stdout",
     "output_type": "stream",
     "text": [
      "              precision    recall  f1-score   support\n",
      "\n",
      "    negative       0.51      0.95      0.66      5000\n",
      "    positive       0.59      0.07      0.12      5000\n",
      "\n",
      "    accuracy                           0.51     10000\n",
      "   macro avg       0.55      0.51      0.39     10000\n",
      "weighted avg       0.55      0.51      0.39     10000\n",
      "\n"
     ]
    }
   ],
   "source": [
    "target_names = ['negative', 'positive']\n",
    "print(classification_report(df_count_Y,prediction_count,target_names=target_names))"
   ]
  },
  {
   "cell_type": "code",
   "execution_count": 37,
   "id": "f1905361",
   "metadata": {},
   "outputs": [
    {
     "data": {
      "text/plain": [
       "<matplotlib.collections.PathCollection at 0x7f7ecd5e2fa0>"
      ]
     },
     "execution_count": 37,
     "metadata": {},
     "output_type": "execute_result"
    },
    {
     "data": {
      "image/png": "[encoded data removed]",
      "text/plain": [
       "<Figure size 432x288 with 1 Axes>"
      ]
     },
     "metadata": {
      "needs_background": "light"
     },
     "output_type": "display_data"
    }
   ],
   "source": [
    "# Plotting scatter plot\n",
    "plt.scatter(pca_count[:, 0], pca_count[:, 1],c=prediction_count ,s=50, cmap='plasma')  \n",
    "center2_count = fitted_count.cluster_centers_ \n",
    "plt.scatter(center2_count[:, 0], center2_count[:, 1],c='green', s=300, alpha=0.8)\n"
   ]
  },
  {
   "cell_type": "code",
   "execution_count": 38,
   "id": "154040d2",
   "metadata": {},
   "outputs": [],
   "source": [
    "df_count_pca = PCA().fit(df_count_X_scale)"
   ]
  },
  {
   "cell_type": "code",
   "execution_count": 39,
   "id": "abca9a22",
   "metadata": {},
   "outputs": [
    {
     "data": {
      "image/png": "[encoded data removed]",
      "text/plain": [
       "<Figure size 576x432 with 1 Axes>"
      ]
     },
     "metadata": {
      "needs_background": "light"
     },
     "output_type": "display_data"
    }
   ],
   "source": [
    "fig, ax = plt.subplots(figsize=(8,6))\n",
    "\n",
    "x_values = range(1, df_count_pca.n_components_+1)\n",
    "\n",
    "ax.plot(x_values, df_count_pca.explained_variance_ratio_, lw=2, label='explained variance')\n",
    "ax.plot(x_values, np.cumsum(df_count_pca.explained_variance_ratio_), lw=2, label='cumulative explained variance')\n",
    "ax.set_title('Count vectorizer')\n",
    "ax.set_xlabel('principal component')\n",
    "ax.set_ylabel('explained variance')\n",
    "plt.show()"
   ]
  },
  {
   "cell_type": "markdown",
   "id": "0056ab0b",
   "metadata": {},
   "source": [
    "## PCA & K-means w/ TD-IDF"
   ]
  },
  {
   "cell_type": "code",
   "execution_count": 40,
   "id": "708ee574",
   "metadata": {},
   "outputs": [],
   "source": [
    "#scale data\n",
    "scaler = StandardScaler()\n",
    "df_tfidf_X_scale = scaler.fit_transform(df_tfidf_X)\n",
    "# df_test_tfidf_X_scale = scaler.fit_transform(df_test_tfidf_X)"
   ]
  },
  {
   "cell_type": "code",
   "execution_count": 41,
   "id": "d751147a",
   "metadata": {},
   "outputs": [],
   "source": [
    "pca = PCA(2)\n",
    "pca_tfidf = pca.fit_transform(df_tfidf_X_scale)"
   ]
  },
  {
   "cell_type": "code",
   "execution_count": 42,
   "id": "9cf43890",
   "metadata": {},
   "outputs": [],
   "source": [
    "kmeans = KMeans(n_clusters=2, max_iter=400, algorithm = 'auto')\n",
    "# fitting kmeans model\n",
    "fitted_tfidf = kmeans.fit(pca_tfidf)\n",
    "\n",
    "#predicting clusters\n",
    "prediction_tfidf = kmeans.predict(pca_tfidf)"
   ]
  },
  {
   "cell_type": "code",
   "execution_count": 43,
   "id": "ea615fc6",
   "metadata": {},
   "outputs": [
    {
     "data": {
      "text/plain": [
       "(10000,)"
      ]
     },
     "execution_count": 43,
     "metadata": {},
     "output_type": "execute_result"
    }
   ],
   "source": [
    "prediction_tfidf.shape"
   ]
  },
  {
   "cell_type": "code",
   "execution_count": 44,
   "id": "292cc418",
   "metadata": {},
   "outputs": [
    {
     "name": "stdout",
     "output_type": "stream",
     "text": [
      "              precision    recall  f1-score   support\n",
      "\n",
      "    negative       0.50      0.95      0.66      5000\n",
      "    positive       0.58      0.07      0.12      5000\n",
      "\n",
      "    accuracy                           0.51     10000\n",
      "   macro avg       0.54      0.51      0.39     10000\n",
      "weighted avg       0.54      0.51      0.39     10000\n",
      "\n"
     ]
    }
   ],
   "source": [
    "target_names = ['negative', 'positive']\n",
    "print(classification_report(df_tfidf_Y,prediction_tfidf,target_names=target_names))"
   ]
  },
  {
   "cell_type": "code",
   "execution_count": 45,
   "id": "0f609960",
   "metadata": {},
   "outputs": [
    {
     "data": {
      "text/plain": [
       "<matplotlib.collections.PathCollection at 0x7f7eb487d580>"
      ]
     },
     "execution_count": 45,
     "metadata": {},
     "output_type": "execute_result"
    },
    {
     "data": {
      "image/png": "[encoded data removed]",
      "text/plain": [
       "<Figure size 432x288 with 1 Axes>"
      ]
     },
     "metadata": {
      "needs_background": "light"
     },
     "output_type": "display_data"
    }
   ],
   "source": [
    "# Plotting scatter plot\n",
    "plt.scatter(pca_tfidf[:, 0], pca_tfidf[:, 1],c=prediction_tfidf ,s=50, cmap='plasma')  \n",
    "center2_tfidf = fitted_tfidf.cluster_centers_ \n",
    "plt.scatter(center2_tfidf[:, 0], center2_tfidf[:, 1],c='green', s=300, alpha=0.8)\n"
   ]
  },
  {
   "cell_type": "code",
   "execution_count": 46,
   "id": "81d89633",
   "metadata": {},
   "outputs": [],
   "source": [
    "df_tdidf_pca = PCA().fit(df_tfidf_X_scale)"
   ]
  },
  {
   "cell_type": "code",
   "execution_count": 47,
   "id": "43333dc6",
   "metadata": {},
   "outputs": [
    {
     "data": {
      "image/png": "[encoded data removed]",
      "text/plain": [
       "<Figure size 576x432 with 1 Axes>"
      ]
     },
     "metadata": {
      "needs_background": "light"
     },
     "output_type": "display_data"
    }
   ],
   "source": [
    "fig, ax = plt.subplots(figsize=(8,6))\n",
    "\n",
    "x_values = range(1, df_tdidf_pca.n_components_+1)\n",
    "\n",
    "ax.plot(x_values, df_tdidf_pca.explained_variance_ratio_, lw=2, label='explained variance')\n",
    "ax.plot(x_values, np.cumsum(df_tdidf_pca.explained_variance_ratio_), lw=2, label='cumulative explained variance')\n",
    "ax.set_title('TD-IDF vectorizer')\n",
    "ax.set_xlabel('principal component')\n",
    "ax.set_ylabel('explained variance')\n",
    "plt.show()"
   ]
  },
  {
   "cell_type": "markdown",
   "id": "20a1b6b8",
   "metadata": {},
   "source": [
    "## SVM Linear w/ BoW"
   ]
  },
  {
   "cell_type": "code",
   "execution_count": 48,
   "id": "b5198040",
   "metadata": {},
   "outputs": [],
   "source": [
    "def train_SVM(X, y, kernel='linear'):\n",
    "    clf = SVC(kernel=kernel)\n",
    "    clf.fit(X, y)\n",
    "    return clf"
   ]
  },
  {
   "cell_type": "code",
   "execution_count": 40,
   "id": "a260ee12",
   "metadata": {},
   "outputs": [],
   "source": [
    "df_count_clf = train_SVM(df_train_count_X, df_train_count_Y)"
   ]
  },
  {
   "cell_type": "code",
   "execution_count": 41,
   "id": "9cc63f60",
   "metadata": {},
   "outputs": [],
   "source": [
    "# df_pred_train_count_Y = df_count_clf.predict(df_train_count_X)\n",
    "df_pred_test_count_Y = df_count_clf.predict(df_test_count_X)"
   ]
  },
  {
   "cell_type": "code",
   "execution_count": 42,
   "id": "562855f3",
   "metadata": {},
   "outputs": [
    {
     "name": "stdout",
     "output_type": "stream",
     "text": [
      "              precision    recall  f1-score   support\n",
      "\n",
      "    negative       0.73      0.71      0.72      1003\n",
      "    positive       0.72      0.74      0.73       997\n",
      "\n",
      "    accuracy                           0.73      2000\n",
      "   macro avg       0.73      0.73      0.72      2000\n",
      "weighted avg       0.73      0.72      0.72      2000\n",
      "\n"
     ]
    }
   ],
   "source": [
    "target_names = ['negative', 'positive']\n",
    "print(classification_report(df_test_count_Y,df_pred_test_count_Y,target_names=target_names))\n"
   ]
  },
  {
   "cell_type": "markdown",
   "id": "1e2954bf",
   "metadata": {},
   "source": [
    "## SVM Linear w/ TF-IDF"
   ]
  },
  {
   "cell_type": "code",
   "execution_count": 43,
   "id": "175edac2",
   "metadata": {},
   "outputs": [],
   "source": [
    "df_tfidf_clf = train_SVM (df_train_tfidf_X, df_train_tfidf_Y)"
   ]
  },
  {
   "cell_type": "code",
   "execution_count": 44,
   "id": "0284c604",
   "metadata": {},
   "outputs": [],
   "source": [
    "df_pred_train_tfidf_Y = df_tfidf_clf.predict(df_train_tfidf_X)\n",
    "df_pred_test_tfidf_Y = df_tfidf_clf.predict(df_test_tfidf_X)"
   ]
  },
  {
   "cell_type": "code",
   "execution_count": 45,
   "id": "d6e8082b",
   "metadata": {},
   "outputs": [
    {
     "name": "stdout",
     "output_type": "stream",
     "text": [
      "              precision    recall  f1-score   support\n",
      "\n",
      "    negative       0.75      0.75      0.75      1003\n",
      "    positive       0.75      0.75      0.75       997\n",
      "\n",
      "    accuracy                           0.75      2000\n",
      "   macro avg       0.75      0.75      0.75      2000\n",
      "weighted avg       0.75      0.75      0.75      2000\n",
      "\n"
     ]
    }
   ],
   "source": [
    "target_names = ['negative', 'positive']\n",
    "print(classification_report(df_test_tfidf_Y, df_pred_test_tfidf_Y,target_names=target_names))"
   ]
  },
  {
   "cell_type": "code",
   "execution_count": 46,
   "id": "af0be3fd",
   "metadata": {},
   "outputs": [],
   "source": [
    "# Draw the heatmap of training errors.\n",
    "def draw_heatmap(training_errors):\n",
    "    # training_errors: A NumPy array with the shape (len(C_list), len(gamma_list))\n",
    "    # gamma_list: List of gamma(s).\n",
    "    # C_list: List of C(s).\n",
    "    plt.figure(figsize = (5,4))\n",
    "    ax = sns.heatmap(training_errors, annot=True, fmt='.3f', \n",
    "                     xticklabels=gamma_list, yticklabels=C_list)\n",
    "    ax.collections[0].colorbar.set_label(\"error\")\n",
    "    ax.set(xlabel = '$\\gamma$', ylabel='$C$')\n",
    "    plt.title('Training error w.r.t $C$ and $\\gamma$')\n",
    "    plt.show()"
   ]
  },
  {
   "cell_type": "markdown",
   "id": "bad7ac63",
   "metadata": {},
   "source": [
    "## SVM Non-linear (RBF) w/ TF-IDF"
   ]
  },
  {
   "cell_type": "code",
   "execution_count": null,
   "id": "0af48bfa",
   "metadata": {},
   "outputs": [],
   "source": [
    "# takes too long to train\n",
    "\n",
    "# C_list = [1, 10, 100, 1000, 10000]\n",
    "# gamma_list = [1e-6, 1e-5, 1e-4, 1e-3,1e-2]\n",
    "# classifier = svm.SVC(kernel='rbf')\n",
    "# search_results =  GridSearchCV(classifier, {'C':C_list, 'gamma': gamma_list, 'kernel': ['rbf']}) #########\n",
    "\n",
    "# search_results.fit(df_train_count_X,df_train_count_Y)"
   ]
  },
  {
   "cell_type": "code",
   "execution_count": null,
   "id": "c717370f",
   "metadata": {},
   "outputs": [],
   "source": [
    "# here's how we can extract all the same information from the search_results data structure\n",
    "\n",
    "# first get the parameters used in the order they were used\n",
    "results = pd.DataFrame( search_results.cv_results_['params'] )\n",
    "\n",
    "# next grab the score resulting from those parameters, add it to the data\n",
    "# score is accuracy; to display it as misclassification error we use 1 - x\n",
    "results['score'] = 1 - search_results.cv_results_['mean_test_score']\n",
    "\n",
    "# turn a long table into a 2-D table with C being the 1st axis (y-axis) and gamma as the 2nd (x-axis)\n",
    "results = results.pivot('C','gamma','score')\n",
    "\n",
    "# and plot it\n",
    "# using the dataframe means we don't need the wrapper fct around sns.heatmap we used before\n",
    "sns.heatmap(results,annot=True, fmt='.3f') \n",
    "plt.title('Training error w.r.t $C$ and $\\gamma$')\n",
    "plt.show()"
   ]
  },
  {
   "cell_type": "code",
   "execution_count": null,
   "id": "96333290",
   "metadata": {},
   "outputs": [],
   "source": [
    "# extract the best estimator and its params\n",
    "opt_classifier = search_results.best_estimator_\n",
    "opt_C = search_results.best_params_['C']\n",
    "opt_gamma = search_results.best_params_['gamma']\n",
    "\n",
    "# just a copy/paste of test set evaluation from before\n",
    "opt_classifier.fit(df_train_count_X,df_train_count_Y)\n",
    "opt_test_score = 1 - opt_classifier.score(df_test_count_X,df_test_count_Y) # again turn accuracy into misclassification error\n",
    "print(f'Test set error for optimum classifier(C={opt_C},gamma={opt_gamma}): {opt_test_score:.3f}') \n"
   ]
  },
  {
   "cell_type": "code",
   "execution_count": null,
   "id": "601cc0e8",
   "metadata": {},
   "outputs": [],
   "source": []
  }
 ],
 "metadata": {
  "kernelspec": {
   "display_name": "Python 3 (ipykernel)",
   "language": "python",
   "name": "python3"
  },
  "language_info": {
   "codemirror_mode": {
    "name": "ipython",
    "version": 3
   },
   "file_extension": ".py",
   "mimetype": "text/x-python",
   "name": "python",
   "nbconvert_exporter": "python",
   "pygments_lexer": "ipython3",
   "version": "3.9.5"
  }
 },
 "nbformat": 4,
 "nbformat_minor": 5
}
